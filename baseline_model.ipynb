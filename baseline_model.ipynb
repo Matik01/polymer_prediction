{
 "cells": [
  {
   "cell_type": "code",
   "execution_count": 1,
   "id": "f22154c2-505d-41bc-aa2a-c7865944de75",
   "metadata": {},
   "outputs": [
    {
     "name": "stderr",
     "output_type": "stream",
     "text": [
      "No normalization for SPS. Feature removed!\n",
      "No normalization for AvgIpc. Feature removed!\n",
      "Skipped loading some Tensorflow models, missing a dependency. No module named 'tensorflow'\n",
      "Skipped loading modules with pytorch-geometric dependency, missing a dependency. No module named 'torch_geometric'\n",
      "Skipped loading modules with transformers dependency. No module named 'transformers'\n",
      "cannot import name 'HuggingFaceModel' from 'deepchem.models.torch_models' (/home/kirill/miniconda3/envs/ml/lib/python3.10/site-packages/deepchem/models/torch_models/__init__.py)\n",
      "Skipped loading modules with pytorch-geometric dependency, missing a dependency. cannot import name 'DMPNN' from 'deepchem.models.torch_models' (/home/kirill/miniconda3/envs/ml/lib/python3.10/site-packages/deepchem/models/torch_models/__init__.py)\n",
      "Skipped loading modules with pytorch-lightning dependency, missing a dependency. No module named 'lightning'\n",
      "Skipped loading some Jax models, missing a dependency. No module named 'jax'\n",
      "Skipped loading some PyTorch models, missing a dependency. No module named 'tensorflow'\n",
      "Error: Invalid command: -h. To print help message: diamond help\n"
     ]
    }
   ],
   "source": [
    "import pandas as pd\n",
    "import numpy as np\n",
    "\n",
    "from rdkit import Chem\n",
    "from rdkit.Chem import AllChem\n",
    "from rdkit.Chem import Draw\n",
    "from rdkit.Chem import Descriptors\n",
    "import deepchem as dc\n",
    "from datasail.sail import datasail\n",
    "import json\n",
    "\n",
    "from sklearn.preprocessing import StandardScaler\n",
    "from sklearn.ensemble import AdaBoostRegressor, RandomForestRegressor, ExtraTreesRegressor\n",
    "from sklearn.svm import SVR\n",
    "from sklearn.model_selection import KFold\n",
    "import matplotlib.pyplot as plt\n",
    "from sklearn.linear_model import LinearRegression\n",
    "from sklearn.neural_network import MLPRegressor\n",
    "import xgboost as xgb\n",
    "\n",
    "from sklearn.metrics import root_mean_squared_error, mean_absolute_error\n",
    "from scipy.stats import pearsonr\n",
    "\n",
    "import deepchem as dc\n",
    "\n",
    "SEED = 42\n",
    "np.random.seed(SEED)"
   ]
  },
  {
   "cell_type": "code",
   "execution_count": 2,
   "id": "f475e54d-c6a3-45e6-ae3b-862b7fb1ebf6",
   "metadata": {},
   "outputs": [],
   "source": [
    "train_data = pd.read_csv('data/train.csv')\n",
    "test_data = pd.read_csv('data/test.csv')"
   ]
  },
  {
   "cell_type": "code",
   "execution_count": 3,
   "id": "d8d24ada-cce5-4a33-99fd-0c7b91b3e839",
   "metadata": {},
   "outputs": [
    {
     "data": {
      "image/jpeg": "[encoded data removed]",
      "image/png": "[encoded data removed]",
      "text/plain": [
       "<PIL.PngImagePlugin.PngImageFile image mode=RGB size=300x300>"
      ]
     },
     "execution_count": 3,
     "metadata": {},
     "output_type": "execute_result"
    }
   ],
   "source": [
    "mol = Chem.MolFromSmiles(train_data['SMILES'][0])\n",
    "Chem.SanitizeMol(mol)\n",
    "Draw.MolToImage(mol)"
   ]
  },
  {
   "cell_type": "code",
   "execution_count": 4,
   "id": "17268dd7-87c7-4fb3-9541-af78058f48ea",
   "metadata": {},
   "outputs": [
    {
     "data": {
      "text/html": [
       "<div>\n",
       "<style scoped>\n",
       "    .dataframe tbody tr th:only-of-type {\n",
       "        vertical-align: middle;\n",
       "    }\n",
       "\n",
       "    .dataframe tbody tr th {\n",
       "        vertical-align: top;\n",
       "    }\n",
       "\n",
       "    .dataframe thead th {\n",
       "        text-align: right;\n",
       "    }\n",
       "</style>\n",
       "<table border=\"1\" class=\"dataframe\">\n",
       "  <thead>\n",
       "    <tr style=\"text-align: right;\">\n",
       "      <th></th>\n",
       "      <th>id</th>\n",
       "      <th>Tg</th>\n",
       "      <th>FFV</th>\n",
       "      <th>Tc</th>\n",
       "      <th>Density</th>\n",
       "      <th>Rg</th>\n",
       "    </tr>\n",
       "  </thead>\n",
       "  <tbody>\n",
       "    <tr>\n",
       "      <th>count</th>\n",
       "      <td>7.973000e+03</td>\n",
       "      <td>511.000000</td>\n",
       "      <td>7030.000000</td>\n",
       "      <td>737.000000</td>\n",
       "      <td>613.000000</td>\n",
       "      <td>614.000000</td>\n",
       "    </tr>\n",
       "    <tr>\n",
       "      <th>mean</th>\n",
       "      <td>1.080050e+09</td>\n",
       "      <td>96.452314</td>\n",
       "      <td>0.367212</td>\n",
       "      <td>0.256334</td>\n",
       "      <td>0.985484</td>\n",
       "      <td>16.419787</td>\n",
       "    </tr>\n",
       "    <tr>\n",
       "      <th>std</th>\n",
       "      <td>6.218241e+08</td>\n",
       "      <td>111.228279</td>\n",
       "      <td>0.029609</td>\n",
       "      <td>0.089538</td>\n",
       "      <td>0.146189</td>\n",
       "      <td>4.608640</td>\n",
       "    </tr>\n",
       "    <tr>\n",
       "      <th>min</th>\n",
       "      <td>8.781700e+04</td>\n",
       "      <td>-148.029738</td>\n",
       "      <td>0.226992</td>\n",
       "      <td>0.046500</td>\n",
       "      <td>0.748691</td>\n",
       "      <td>9.728355</td>\n",
       "    </tr>\n",
       "    <tr>\n",
       "      <th>25%</th>\n",
       "      <td>5.376641e+08</td>\n",
       "      <td>13.674509</td>\n",
       "      <td>0.349549</td>\n",
       "      <td>0.186000</td>\n",
       "      <td>0.890243</td>\n",
       "      <td>12.540328</td>\n",
       "    </tr>\n",
       "    <tr>\n",
       "      <th>50%</th>\n",
       "      <td>1.079079e+09</td>\n",
       "      <td>74.040183</td>\n",
       "      <td>0.364264</td>\n",
       "      <td>0.236000</td>\n",
       "      <td>0.948193</td>\n",
       "      <td>15.052194</td>\n",
       "    </tr>\n",
       "    <tr>\n",
       "      <th>75%</th>\n",
       "      <td>1.621708e+09</td>\n",
       "      <td>161.147595</td>\n",
       "      <td>0.380790</td>\n",
       "      <td>0.330500</td>\n",
       "      <td>1.062096</td>\n",
       "      <td>20.411067</td>\n",
       "    </tr>\n",
       "    <tr>\n",
       "      <th>max</th>\n",
       "      <td>2.147438e+09</td>\n",
       "      <td>472.250000</td>\n",
       "      <td>0.777097</td>\n",
       "      <td>0.524000</td>\n",
       "      <td>1.840999</td>\n",
       "      <td>34.672906</td>\n",
       "    </tr>\n",
       "  </tbody>\n",
       "</table>\n",
       "</div>"
      ],
      "text/plain": [
       "                 id          Tg          FFV          Tc     Density  \\\n",
       "count  7.973000e+03  511.000000  7030.000000  737.000000  613.000000   \n",
       "mean   1.080050e+09   96.452314     0.367212    0.256334    0.985484   \n",
       "std    6.218241e+08  111.228279     0.029609    0.089538    0.146189   \n",
       "min    8.781700e+04 -148.029738     0.226992    0.046500    0.748691   \n",
       "25%    5.376641e+08   13.674509     0.349549    0.186000    0.890243   \n",
       "50%    1.079079e+09   74.040183     0.364264    0.236000    0.948193   \n",
       "75%    1.621708e+09  161.147595     0.380790    0.330500    1.062096   \n",
       "max    2.147438e+09  472.250000     0.777097    0.524000    1.840999   \n",
       "\n",
       "               Rg  \n",
       "count  614.000000  \n",
       "mean    16.419787  \n",
       "std      4.608640  \n",
       "min      9.728355  \n",
       "25%     12.540328  \n",
       "50%     15.052194  \n",
       "75%     20.411067  \n",
       "max     34.672906  "
      ]
     },
     "execution_count": 4,
     "metadata": {},
     "output_type": "execute_result"
    }
   ],
   "source": [
    "train_data.describe()"
   ]
  },
  {
   "cell_type": "code",
   "execution_count": 5,
   "id": "0e580b4f-d0cf-4428-a51b-a60daec98e0c",
   "metadata": {},
   "outputs": [],
   "source": [
    "class Config:\n",
    "    TARGET_LIST = ['FFV', 'Tg', 'Tc', 'Density', 'Rg']\n",
    "    \n",
    "    def get_canonical_smiles(self, smiles):\n",
    "        mol = Chem.MolFromSmiles(smiles)\n",
    "        flag = Chem.SanitizeMol(mol, catchErrors=True)\n",
    "        \n",
    "        if flag != Chem.rdmolops.SanitizeFlags.SANITIZE_NONE:\n",
    "            Chem.SanitizeMol(mol, sanitizeOps=Chem.rdmolops.SanitizeFlags.SANITIZE_ALL ^ flag)\n",
    "\n",
    "        smiles = Chem.MolToSmiles(mol, canonical=True)\n",
    "        \n",
    "        return smiles\n",
    "        \n",
    "    def vectorize_smiles(self, smiles: str):\n",
    "        smiles = self.get_canonical_smiles(smiles)\n",
    "        mol = Chem.MolFromSmiles(smiles)\n",
    "        \n",
    "        descriptors = {\n",
    "            'MW': Descriptors.MolWt(mol),\n",
    "            'HBA': Descriptors.NOCount(mol),\n",
    "            'HBD': Descriptors.NHOHCount(mol),\n",
    "            'LogP': Descriptors.MolLogP(mol),\n",
    "            'TPSA': Descriptors.TPSA(mol),\n",
    "            'EtherCount': Chem.Fragments.fr_ether(mol),\n",
    "            'EsterCount': Chem.Fragments.fr_ester(mol),\n",
    "            'AmideCount': Chem.Fragments.fr_amide(mol),\n",
    "            'AromaticRingCount': Chem.rdMolDescriptors.CalcNumAromaticRings(mol),\n",
    "            'BertzCT': Descriptors.BertzCT(mol),\n",
    "            'BalabanJ': Descriptors.BalabanJ(mol)\n",
    "        }\n",
    "        morgen = AllChem.GetMorganGenerator(radius=2, fpSize=2048)\n",
    "        fp = morgen.GetFingerprint(mol)\n",
    "        fp_feat = {idx: int(bit) for idx, bit in enumerate(fp)} \n",
    "        descriptors.update(fp_feat)\n",
    "        return descriptors\n",
    "\n",
    "config = Config()"
   ]
  },
  {
   "cell_type": "code",
   "execution_count": 6,
   "id": "282f5a8f-5c62-4746-9faf-7f0f88a3a6d7",
   "metadata": {},
   "outputs": [
    {
     "data": {
      "text/plain": [
       "False"
      ]
     },
     "execution_count": 6,
     "metadata": {},
     "output_type": "execute_result"
    }
   ],
   "source": [
    "train_data.duplicated(subset='SMILES').any()"
   ]
  },
  {
   "cell_type": "code",
   "execution_count": 7,
   "id": "e4edde82-c7ab-40f5-a971-d32c473f6406",
   "metadata": {},
   "outputs": [],
   "source": [
    "feature_df = pd.json_normalize(train_data['SMILES'].apply(config.vectorize_smiles))"
   ]
  },
  {
   "cell_type": "code",
   "execution_count": 8,
   "id": "f5fa34fe-a3b8-4dcb-9f07-77a170cdeb24",
   "metadata": {
    "scrolled": true
   },
   "outputs": [],
   "source": [
    "data = pd.concat([train_data, feature_df.reset_index(drop=True)], axis=1)"
   ]
  },
  {
   "cell_type": "markdown",
   "id": "3012885b-7c9a-4b1e-bf54-34d6562101b7",
   "metadata": {},
   "source": [
    "# DeepChem test"
   ]
  },
  {
   "cell_type": "code",
   "execution_count": 14,
   "id": "e60bce2f-9194-4da6-94ad-c96e242bd912",
   "metadata": {},
   "outputs": [],
   "source": [
    "featurizer = dc.feat.MordredDescriptors(ignore_3D=True)\n",
    "train_data['desc'] = train_data['SMILES'].apply(featurizer)"
   ]
  },
  {
   "cell_type": "code",
   "execution_count": 9,
   "id": "75548309-332e-4e58-adc4-227f1511107f",
   "metadata": {},
   "outputs": [],
   "source": [
    "def remove_asterisk(smiles):\n",
    "    smiles = smiles.replace('*', '')\n",
    "    smiles = smiles.replace('(*)', '')\n",
    "    smiles = smiles.replace('()', '')\n",
    "\n",
    "    return smiles"
   ]
  },
  {
   "cell_type": "code",
   "execution_count": 10,
   "id": "8c0e6bd4-f372-4851-bc31-a16b152f0960",
   "metadata": {},
   "outputs": [],
   "source": [
    "train_data = pd.read_pickle('data/descriptors_calc.pkl')\n",
    "train_data['corrected_smiles'] = train_data['SMILES'].apply(remove_asterisk)"
   ]
  },
  {
   "cell_type": "code",
   "execution_count": 11,
   "id": "bb6d574d-ed29-49b3-9711-09f68cae121f",
   "metadata": {},
   "outputs": [],
   "source": [
    "train_ffv = train_data[train_data['FFV'].notnull()][['id', 'SMILES', 'corrected_smiles', 'FFV', 'desc']]\n",
    "train_tg = train_data[train_data['Tg'].notnull()][['id', 'SMILES', 'corrected_smiles', 'Tg', 'desc']]\n",
    "train_tc = train_data[train_data['Tc'].notnull()][['id', 'SMILES', 'corrected_smiles', 'Tc', 'desc']]\n",
    "train_density = train_data[train_data['Density'].notnull()][['id', 'SMILES', 'corrected_smiles', 'Density', 'desc']]\n",
    "train_rg = train_data[train_data['Rg'].notnull()][['id', 'SMILES', 'corrected_smiles', 'Rg', 'desc']]"
   ]
  },
  {
   "cell_type": "code",
   "execution_count": 12,
   "id": "d5dbda83-5eaa-45c2-9968-524d8e30881d",
   "metadata": {},
   "outputs": [],
   "source": [
    "X = np.vstack(train_ffv['desc'])\n",
    "y = np.array(train_ffv['FFV'])"
   ]
  },
  {
   "cell_type": "code",
   "execution_count": 13,
   "id": "2dfa27bf-cdda-4bbc-9200-21deb4efbf56",
   "metadata": {},
   "outputs": [],
   "source": [
    "nan_mask = np.isnan(X)\n",
    "rows_with_nan = np.where(nan_mask.any(axis=1))[0]\n",
    "cols_with_nan = np.where(nan_mask.any(axis=0))[0]\n"
   ]
  },
  {
   "cell_type": "code",
   "execution_count": 14,
   "id": "45c12089-7f8b-4553-8c7f-830e6f78476f",
   "metadata": {},
   "outputs": [
    {
     "data": {
      "text/plain": [
       "array([1208, 1209, 1210, 1211, 1212, 1221, 1222, 1223, 1224, 1229, 1230,\n",
       "       1231, 1232, 1237, 1238, 1239, 1240, 1242, 1243, 1244, 1245, 1246,\n",
       "       1247, 1250, 1251, 1252, 1305, 1411, 1412])"
      ]
     },
     "execution_count": 14,
     "metadata": {},
     "output_type": "execute_result"
    }
   ],
   "source": [
    "cols_with_nan"
   ]
  },
  {
   "cell_type": "code",
   "execution_count": 15,
   "id": "fe2d8846-7494-4275-8b32-074b25c2f37e",
   "metadata": {},
   "outputs": [],
   "source": [
    "X_clean = X[:, ~cols_with_nan]"
   ]
  },
  {
   "cell_type": "code",
   "execution_count": 16,
   "id": "1b1ee1a6-93bf-4ea3-818f-cecf693c78a2",
   "metadata": {},
   "outputs": [],
   "source": [
    "scaler = StandardScaler()\n",
    "X_scaled = scaler.fit_transform(X_clean)"
   ]
  },
  {
   "cell_type": "code",
   "execution_count": 67,
   "id": "cf7da581-44df-4ab1-a6b8-a3cdb5a25bad",
   "metadata": {
    "scrolled": true
   },
   "outputs": [
    {
     "name": "stdout",
     "output_type": "stream",
     "text": [
      "Fold 1/5\n",
      "Fold 2/5\n",
      "Fold 3/5\n",
      "Fold 4/5\n",
      "Fold 5/5\n",
      "\n",
      "==== Cross-Validation Results ====\n",
      "\n",
      "SVR Model:\n",
      "  RMSE: 0.0565 ± 0.0020\n",
      "  Pearson r: -0.0408 ± 0.0310\n",
      "  MAE: 0.0481 ± 0.0012\n",
      "\n",
      "XGB Model:\n",
      "  RMSE: 0.0409 ± 0.0021\n",
      "  Pearson r: 0.1198 ± 0.0508\n",
      "  MAE: 0.0285 ± 0.0012\n",
      "\n",
      "LinearRegression Model:\n",
      "  RMSE: 0.0387 ± 0.0024\n",
      "  Pearson r: 0.0636 ± 0.0494\n",
      "  MAE: 0.0276 ± 0.0010\n",
      "\n",
      "MLP Model:\n",
      "  RMSE: 0.0772 ± 0.0084\n",
      "  Pearson r: 0.0558 ± 0.0062\n",
      "  MAE: 0.0398 ± 0.0021\n",
      "\n",
      "RandomForest Model:\n",
      "  RMSE: 0.0394 ± 0.0020\n",
      "  Pearson r: 0.1386 ± 0.0550\n",
      "  MAE: 0.0274 ± 0.0009\n",
      "\n",
      "ExtraTrees Model:\n",
      "  RMSE: 0.0387 ± 0.0020\n",
      "  Pearson r: 0.1162 ± 0.0800\n",
      "  MAE: 0.0274 ± 0.0008\n",
      "\n",
      "AdaBoost Model:\n",
      "  RMSE: 0.0466 ± 0.0003\n",
      "  Pearson r: 0.0627 ± 0.0230\n",
      "  MAE: 0.0375 ± 0.0017\n",
      "\n"
     ]
    }
   ],
   "source": [
    "def _store_metrics(results_dict, model_name, y_true, y_pred):\n",
    "    rmse = root_mean_squared_error(y_true, y_pred)\n",
    "    pearson, _ = pearsonr(y_true, y_pred)\n",
    "    mae = mean_absolute_error(y_true, y_pred)\n",
    "    results_dict[model_name]['rmse'].append(rmse)\n",
    "    results_dict[model_name]['pearsonr'].append(pearson)\n",
    "    results_dict[model_name]['mae'].append(mae)\n",
    "\n",
    "results = {\n",
    "        'SVR': {'rmse': [], 'pearsonr': [], 'mae': []},\n",
    "        'XGB': {'rmse': [], 'pearsonr': [], 'mae': []},\n",
    "        'LinearRegression': {'rmse': [], 'pearsonr': [], 'mae': []},\n",
    "        'MLP': {'rmse': [], 'pearsonr': [], 'mae': []},\n",
    "        'RandomForest': {'rmse': [], 'pearsonr': [], 'mae': []},\n",
    "        'ExtraTrees': {'rmse': [], 'pearsonr': [], 'mae': []},\n",
    "        'AdaBoost': {'rmse': [], 'pearsonr': [], 'mae': []},\n",
    "    }\n",
    "    \n",
    "for fold in range(5):\n",
    "    print(f\"Fold {fold+1}/5\")\n",
    "    \n",
    "    split_dict = e_splits['C1e'][fold]\n",
    "    train_index, val_index, test_index = [], [], []\n",
    "    \n",
    "    for index, idx in enumerate(train_ffv['id']):\n",
    "        split = split_dict.get(idx)\n",
    "        if split == 'train':\n",
    "            train_index.append(index)\n",
    "        elif split == 'val':\n",
    "            val_index.append(index)\n",
    "\n",
    "    X_train, X_val = X_scaled[train_index], X_scaled[val_index]\n",
    "    y_train, y_val = y[train_index], y[val_index]\n",
    "    \n",
    "    svr_model = SVR(kernel='rbf', C=1.0, epsilon=0.1)\n",
    "    svr_model.fit(X_train, y_train)\n",
    "    y_pred_svr = svr_model.predict(X_val)\n",
    "    _store_metrics(results, 'SVR', y_val, y_pred_svr)\n",
    "\n",
    "    xgb_model = xgb.XGBRegressor(n_estimators=300, objective='reg:squarederror', random_state=42)\n",
    "    xgb_model.fit(X_train, y_train)\n",
    "    y_pred_xgb = xgb_model.predict(X_val)\n",
    "    _store_metrics(results, 'XGB', y_val, y_pred_xgb)\n",
    "\n",
    "    lr_model = LinearRegression()\n",
    "    lr_model.fit(X_train, y_train)\n",
    "    y_pred_lr = lr_model.predict(X_val)\n",
    "    _store_metrics(results, 'LinearRegression', y_val, y_pred_lr)\n",
    "\n",
    "    mlp_model = MLPRegressor(hidden_layer_sizes=(64, 64), max_iter=1000, random_state=42)\n",
    "    mlp_model.fit(X_train, y_train)\n",
    "    y_pred_mlp = mlp_model.predict(X_val)\n",
    "    _store_metrics(results, 'MLP', y_val, y_pred_mlp)\n",
    "\n",
    "    rf_model = RandomForestRegressor(n_estimators=100, random_state=42, n_jobs=-1)\n",
    "    rf_model.fit(X_train, y_train)\n",
    "    y_pred_rf = rf_model.predict(X_val)\n",
    "    _store_metrics(results, 'RandomForest', y_val, y_pred_rf)\n",
    "\n",
    "    et_model = ExtraTreesRegressor(n_estimators=100, random_state=42, n_jobs=-1)\n",
    "    et_model.fit(X_train, y_train)\n",
    "    y_pred_et = et_model.predict(X_val)\n",
    "    _store_metrics(results, 'ExtraTrees', y_val, y_pred_et)\n",
    "\n",
    "    ab_model = AdaBoostRegressor(n_estimators=100, random_state=42)\n",
    "    ab_model.fit(X_train, y_train)\n",
    "    y_pred_ab = ab_model.predict(X_val)\n",
    "    _store_metrics(results, 'AdaBoost', y_val, y_pred_ab)\n",
    "\n",
    "print(\"\\n==== Cross-Validation Results ====\\n\")\n",
    "for model in results:\n",
    "    mean_rmse = np.mean(results[model]['rmse'])\n",
    "    std_rmse = np.std(results[model]['rmse'])\n",
    "    mean_pearsonr = np.mean(results[model]['pearsonr'])\n",
    "    std_pearsonr = np.std(results[model]['pearsonr'])\n",
    "    mean_mae = np.mean(results[model]['mae'])\n",
    "    std_mae = np.std(results[model]['mae'])\n",
    "    \n",
    "    print(f\"{model} Model:\")\n",
    "    print(f\"  RMSE: {mean_rmse:.4f} ± {std_rmse:.4f}\")\n",
    "    print(f\"  Pearson r: {mean_pearsonr:.4f} ± {std_pearsonr:.4f}\")\n",
    "    print(f\"  MAE: {mean_mae:.4f} ± {std_mae:.4f}\")\n",
    "    print()\n"
   ]
  },
  {
   "cell_type": "code",
   "execution_count": 10,
   "id": "2cd1d961-b486-4cce-8be0-050c7bbbf2a9",
   "metadata": {},
   "outputs": [],
   "source": [
    "params = {'objective': 'reg:squarederror',\n",
    "         'eval_metric': 'mae',\n",
    "         'random_state': SEED,\n",
    "         'verbosity': 0}\n",
    "\n",
    "def cv_target(X, y):\n",
    "    cv_scores = []\n",
    "    X['id'] = X['id'].astype(str)\n",
    "    for fold in range(5):\n",
    "        split_dict = datasail_split['C1e'][fold]\n",
    "        train_index, val_index = [], []\n",
    "        \n",
    "        for index, idx in enumerate(X['id']):\n",
    "            split = split_dict.get(idx)\n",
    "            if split == 'train':\n",
    "                train_index.append(index)\n",
    "            elif split == 'val':\n",
    "                val_index.append(index)\n",
    "        \n",
    "        dtrain = xgb.DMatrix(X.iloc[train_index].drop(columns=['id']), label=y.iloc[train_index])\n",
    "        dval = xgb.DMatrix(X.iloc[val_index].drop(columns=['id']), label=y.iloc[val_index])\n",
    "        \n",
    "        result_dict = {}\n",
    "        xgb_model = xgb.train(\n",
    "            params,\n",
    "            dtrain, \n",
    "            evals=[(dtrain, 'train'), (dval, 'val')], \n",
    "            num_boost_round=10000,\n",
    "            early_stopping_rounds=100, \n",
    "            verbose_eval=False,\n",
    "            evals_result=result_dict\n",
    "            )\n",
    "\n",
    "        cv_scores.append(xgb_model.best_score)\n",
    "    print(cv_scores)"
   ]
  },
  {
   "cell_type": "code",
   "execution_count": 11,
   "id": "c408c9f5-8c70-4fe3-a875-65a2e51c9324",
   "metadata": {},
   "outputs": [],
   "source": [
    "with open('data/datasail_split.json', 'r') as f:\n",
    "    datasail_split = json.load(f)"
   ]
  },
  {
   "cell_type": "code",
   "execution_count": 261,
   "id": "46e30fd0-f1e2-41eb-899a-3ae1ed29f477",
   "metadata": {
    "scrolled": true
   },
   "outputs": [
    {
     "name": "stdout",
     "output_type": "stream",
     "text": [
      "[0.01521677651669273, 0.01521677651669273, 0.01311715982334043, 0.01620376556981826, 0.01521677651669273]\n",
      "[41.040643539428714, 41.040643539428714, 42.968795146260945, 48.35164682727215, 41.040643539428714]\n",
      "[0.03905756476004262, 0.03905756476004262, 0.03559246493710412, 0.04353667826541347, 0.03905756476004262]\n",
      "[0.10499180032965842, 0.10499180032965842, 0.06974246295598838, 0.07023789019851417, 0.10499180032965842]\n",
      "[2.5264506182827793, 2.5264506182827793, 2.3046183406182057, 1.8499537073332688, 2.5264506182827793]\n"
     ]
    }
   ],
   "source": [
    "for target in config.TARGET_LIST:\n",
    "    X = data[data[target].notnull()].filter(items=['id']).join(data.iloc[:, 7:])\n",
    "    y = data[data[target].notnull()].loc[:, target]\n",
    "\n",
    "    cv_target(X, y)"
   ]
  },
  {
   "cell_type": "markdown",
   "id": "b2340110-35c5-401e-aa80-bb0033f051b8",
   "metadata": {},
   "source": [
    "# Optuna"
   ]
  },
  {
   "cell_type": "code",
   "execution_count": 12,
   "id": "a81a8bd2-2abb-42d3-85c6-ab6367b8e2b3",
   "metadata": {},
   "outputs": [],
   "source": [
    "import optuna"
   ]
  },
  {
   "cell_type": "code",
   "execution_count": 15,
   "id": "021d6235-b66f-469e-a288-e8155783836e",
   "metadata": {},
   "outputs": [],
   "source": [
    "def objective(trial, X, y):\n",
    "    params = {\n",
    "            'objective': 'reg:squarederror',\n",
    "            'eval_metric': 'mae',\n",
    "            'random_state': SEED,\n",
    "            'verbosity': 0,\n",
    "            'n_threads': 70,\n",
    "            'learning_rate': trial.suggest_float('learning_rate', 0.01, 0.1, log=True),\n",
    "            'max_depth': trial.suggest_int('max_depth', 5, 20),\n",
    "            'subsample': trial.suggest_float('subsample', 0.6, 1.0),\n",
    "            'colsample_bytree': trial.suggest_float('colsample_bytree', 0.6, 1.0),\n",
    "            'gamma': trial.suggest_float('gamma', 1e-8, 1.0, log=True),\n",
    "            'reg_alpha': trial.suggest_float('reg_alpha', 1e-8, 1.0, log=True),\n",
    "            'reg_lambda': trial.suggest_float('reg_lambda', 1e-8, 2.0, log=True),\n",
    "            'min_child_weight': trial.suggest_int('min_child_weight', 1, 10),\n",
    "            'n_estimators': trial.suggest_int('n_estimators', 100, 10000)\n",
    "        }\n",
    "        \n",
    "    cv_scores = []\n",
    "    X['id'] = X['id'].astype(str)\n",
    "    \n",
    "    for fold in range(5):\n",
    "        split_dict = datasail_split['C1e'][fold]\n",
    "        train_index, val_index = [], []\n",
    "        \n",
    "        for index, idx in enumerate(X['id']):\n",
    "            split = split_dict.get(idx)\n",
    "            if split == 'train':\n",
    "                train_index.append(index)\n",
    "            elif split == 'val':\n",
    "                val_index.append(index)\n",
    "        \n",
    "        dtrain = xgb.DMatrix(X.iloc[train_index].drop(columns=['id']), label=y.iloc[train_index])\n",
    "        dval = xgb.DMatrix(X.iloc[val_index].drop(columns=['id']), label=y.iloc[val_index])\n",
    "        \n",
    "        result_dict = {}\n",
    "        xgb_model = xgb.train(\n",
    "            params,\n",
    "            dtrain, \n",
    "            evals=[(dtrain, 'train'), (dval, 'val')], \n",
    "            num_boost_round=10000,\n",
    "            early_stopping_rounds=100, \n",
    "            verbose_eval=False\n",
    "            )\n",
    "\n",
    "        cv_scores.append(xgb_model.best_score)\n",
    "        \n",
    "    return np.mean(cv_scores)"
   ]
  },
  {
   "cell_type": "code",
   "execution_count": null,
   "id": "da2582fb-6439-4cf2-b448-bafe860fb80e",
   "metadata": {
    "scrolled": true
   },
   "outputs": [
    {
     "data": {
      "application/vnd.jupyter.widget-view+json": {
       "model_id": "580655a2774a41db982d3f1c55e5a779",
       "version_major": 2,
       "version_minor": 0
      },
      "text/plain": [
       "  0%|          | 0/100 [00:00<?, ?it/s]"
      ]
     },
     "metadata": {},
     "output_type": "display_data"
    }
   ],
   "source": [
    "optuna.logging.set_verbosity(optuna.logging.WARNING)\n",
    "log = []\n",
    "for target in config.TARGET_LIST:\n",
    "    X = data[data[target].notnull()].filter(items=['id']).join(data.iloc[:, 7:])\n",
    "    y = data[data[target].notnull()].loc[:, target]\n",
    "    study = optuna.create_study(direction='minimize', sampler=optuna.samplers.TPESampler(seed=SEED), pruner=optuna.pruners.MedianPruner(n_warmup_steps=10))\n",
    "    study.optimize(lambda trial: objective(trial, X, y), n_trials=100, show_progress_bar=True)\n",
    "    log.append(f'For target: {target} MAE:{study.best_value}')\n",
    "    log.append(f'{study.best_params}')"
   ]
  },
  {
   "cell_type": "code",
   "execution_count": 28,
   "id": "a2085a62-0233-48b2-8d35-32a77a2df026",
   "metadata": {},
   "outputs": [
    {
     "name": "stdout",
     "output_type": "stream",
     "text": [
      "For target: FFV MAE:0.013030325282993216\n",
      "{'learning_rate': 0.05119008792616326, 'max_depth': 8, 'subsample': 0.8515205439079674, 'colsample_bytree': 0.6729072250326332, 'gamma': 6.591558759421199e-08, 'reg_alpha': 0.18126543045975893, 'reg_lambda': 0.3236774489674906, 'min_child_weight': 6, 'n_estimators': 716}\n",
      "For target: Tg MAE:39.791738334542046\n",
      "{'learning_rate': 0.0860520145792897, 'max_depth': 6, 'subsample': 0.9491794510974839, 'colsample_bytree': 0.9547639586494181, 'gamma': 0.5640937228430143, 'reg_alpha': 0.19568870330998836, 'reg_lambda': 1.1149744704687345e-08, 'min_child_weight': 6, 'n_estimators': 2181}\n",
      "For target: Tc MAE:0.03448063917180713\n",
      "{'learning_rate': 0.07885013832058245, 'max_depth': 6, 'subsample': 0.628625169085403, 'colsample_bytree': 0.6603805688748092, 'gamma': 1.0986440516157593e-08, 'reg_alpha': 6.211617067481106e-08, 'reg_lambda': 0.002890713067043405, 'min_child_weight': 3, 'n_estimators': 409}\n",
      "For target: Density MAE:0.08122157101801357\n",
      "{'learning_rate': 0.011830189099243627, 'max_depth': 5, 'subsample': 0.861838670482416, 'colsample_bytree': 0.9274399975807603, 'gamma': 8.835330920242009e-08, 'reg_alpha': 2.264770237162927e-05, 'reg_lambda': 5.761823715459222e-05, 'min_child_weight': 2, 'n_estimators': 7308}\n",
      "For target: Rg MAE:2.053977408275852\n",
      "{'learning_rate': 0.029956602609348442, 'max_depth': 6, 'subsample': 0.9166529539599855, 'colsample_bytree': 0.739264018826013, 'gamma': 6.593701723767715e-07, 'reg_alpha': 0.0002084175813011532, 'reg_lambda': 1.4874893991644194e-07, 'min_child_weight': 3, 'n_estimators': 8180}\n"
     ]
    }
   ],
   "source": [
    "for i in range(0, len(log)-1, 2):\n",
    "    print(log[i])\n",
    "    print(log[i+1])"
   ]
  },
  {
   "cell_type": "code",
   "execution_count": null,
   "id": "0b71a69d-e27a-42af-8fda-c07ae81e7fc7",
   "metadata": {},
   "outputs": [],
   "source": []
  }
 ],
 "metadata": {
  "kernelspec": {
   "display_name": "ML",
   "language": "python",
   "name": "ml"
  },
  "language_info": {
   "codemirror_mode": {
    "name": "ipython",
    "version": 3
   },
   "file_extension": ".py",
   "mimetype": "text/x-python",
   "name": "python",
   "nbconvert_exporter": "python",
   "pygments_lexer": "ipython3",
   "version": "3.10.15"
  }
 },
 "nbformat": 4,
 "nbformat_minor": 5
}
