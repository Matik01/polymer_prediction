{
 "cells": [
  {
   "cell_type": "code",
   "execution_count": 43,
   "id": "f22154c2-505d-41bc-aa2a-c7865944de75",
   "metadata": {},
   "outputs": [],
   "source": [
    "import pandas as pd\n",
    "import numpy as np\n",
    "\n",
    "from rdkit import Chem\n",
    "from rdkit.Chem import AllChem\n",
    "from rdkit.Chem import Draw\n",
    "from rdkit.Chem import Descriptors\n",
    "import deepchem as dc\n",
    "from datasail.sail import datasail\n",
    "import json\n",
    "\n",
    "from sklearn.preprocessing import StandardScaler\n",
    "from sklearn.ensemble import AdaBoostRegressor, RandomForestRegressor, ExtraTreesRegressor\n",
    "from sklearn.svm import SVR\n",
    "from sklearn.model_selection import KFold\n",
    "import matplotlib.pyplot as plt\n",
    "from sklearn.linear_model import LinearRegression\n",
    "from sklearn.neural_network import MLPRegressor\n",
    "import xgboost as xgb\n",
    "\n",
    "from sklearn.metrics import root_mean_squared_error, mean_absolute_error\n",
    "from scipy.stats import pearsonr\n",
    "\n",
    "import deepchem as dc\n",
    "\n",
    "SEED = 42\n",
    "np.random.seed(SEED)"
   ]
  },
  {
   "cell_type": "code",
   "execution_count": 8,
   "id": "f475e54d-c6a3-45e6-ae3b-862b7fb1ebf6",
   "metadata": {},
   "outputs": [],
   "source": [
    "train_data = pd.read_csv('data/train.csv')\n",
    "test_data = pd.read_csv('data/test.csv')"
   ]
  },
  {
   "cell_type": "code",
   "execution_count": 9,
   "id": "d8d24ada-cce5-4a33-99fd-0c7b91b3e839",
   "metadata": {},
   "outputs": [
    {
     "data": {
      "image/jpeg": "[encoded data removed]",
      "image/png": "[encoded data removed]",
      "text/plain": [
       "<PIL.PngImagePlugin.PngImageFile image mode=RGB size=300x300>"
      ]
     },
     "execution_count": 9,
     "metadata": {},
     "output_type": "execute_result"
    }
   ],
   "source": [
    "mol = Chem.MolFromSmiles(train_data['SMILES'][0])\n",
    "Chem.SanitizeMol(mol)\n",
    "Draw.MolToImage(mol)"
   ]
  },
  {
   "cell_type": "code",
   "execution_count": 10,
   "id": "17268dd7-87c7-4fb3-9541-af78058f48ea",
   "metadata": {},
   "outputs": [
    {
     "data": {
      "text/html": [
       "<div>\n",
       "<style scoped>\n",
       "    .dataframe tbody tr th:only-of-type {\n",
       "        vertical-align: middle;\n",
       "    }\n",
       "\n",
       "    .dataframe tbody tr th {\n",
       "        vertical-align: top;\n",
       "    }\n",
       "\n",
       "    .dataframe thead th {\n",
       "        text-align: right;\n",
       "    }\n",
       "</style>\n",
       "<table border=\"1\" class=\"dataframe\">\n",
       "  <thead>\n",
       "    <tr style=\"text-align: right;\">\n",
       "      <th></th>\n",
       "      <th>id</th>\n",
       "      <th>Tg</th>\n",
       "      <th>FFV</th>\n",
       "      <th>Tc</th>\n",
       "      <th>Density</th>\n",
       "      <th>Rg</th>\n",
       "    </tr>\n",
       "  </thead>\n",
       "  <tbody>\n",
       "    <tr>\n",
       "      <th>count</th>\n",
       "      <td>7.973000e+03</td>\n",
       "      <td>511.000000</td>\n",
       "      <td>7030.000000</td>\n",
       "      <td>737.000000</td>\n",
       "      <td>613.000000</td>\n",
       "      <td>614.000000</td>\n",
       "    </tr>\n",
       "    <tr>\n",
       "      <th>mean</th>\n",
       "      <td>1.080050e+09</td>\n",
       "      <td>96.452314</td>\n",
       "      <td>0.367212</td>\n",
       "      <td>0.256334</td>\n",
       "      <td>0.985484</td>\n",
       "      <td>16.419787</td>\n",
       "    </tr>\n",
       "    <tr>\n",
       "      <th>std</th>\n",
       "      <td>6.218241e+08</td>\n",
       "      <td>111.228279</td>\n",
       "      <td>0.029609</td>\n",
       "      <td>0.089538</td>\n",
       "      <td>0.146189</td>\n",
       "      <td>4.608640</td>\n",
       "    </tr>\n",
       "    <tr>\n",
       "      <th>min</th>\n",
       "      <td>8.781700e+04</td>\n",
       "      <td>-148.029738</td>\n",
       "      <td>0.226992</td>\n",
       "      <td>0.046500</td>\n",
       "      <td>0.748691</td>\n",
       "      <td>9.728355</td>\n",
       "    </tr>\n",
       "    <tr>\n",
       "      <th>25%</th>\n",
       "      <td>5.376641e+08</td>\n",
       "      <td>13.674509</td>\n",
       "      <td>0.349549</td>\n",
       "      <td>0.186000</td>\n",
       "      <td>0.890243</td>\n",
       "      <td>12.540328</td>\n",
       "    </tr>\n",
       "    <tr>\n",
       "      <th>50%</th>\n",
       "      <td>1.079079e+09</td>\n",
       "      <td>74.040183</td>\n",
       "      <td>0.364264</td>\n",
       "      <td>0.236000</td>\n",
       "      <td>0.948193</td>\n",
       "      <td>15.052194</td>\n",
       "    </tr>\n",
       "    <tr>\n",
       "      <th>75%</th>\n",
       "      <td>1.621708e+09</td>\n",
       "      <td>161.147595</td>\n",
       "      <td>0.380790</td>\n",
       "      <td>0.330500</td>\n",
       "      <td>1.062096</td>\n",
       "      <td>20.411067</td>\n",
       "    </tr>\n",
       "    <tr>\n",
       "      <th>max</th>\n",
       "      <td>2.147438e+09</td>\n",
       "      <td>472.250000</td>\n",
       "      <td>0.777097</td>\n",
       "      <td>0.524000</td>\n",
       "      <td>1.840999</td>\n",
       "      <td>34.672906</td>\n",
       "    </tr>\n",
       "  </tbody>\n",
       "</table>\n",
       "</div>"
      ],
      "text/plain": [
       "                 id          Tg          FFV          Tc     Density  \\\n",
       "count  7.973000e+03  511.000000  7030.000000  737.000000  613.000000   \n",
       "mean   1.080050e+09   96.452314     0.367212    0.256334    0.985484   \n",
       "std    6.218241e+08  111.228279     0.029609    0.089538    0.146189   \n",
       "min    8.781700e+04 -148.029738     0.226992    0.046500    0.748691   \n",
       "25%    5.376641e+08   13.674509     0.349549    0.186000    0.890243   \n",
       "50%    1.079079e+09   74.040183     0.364264    0.236000    0.948193   \n",
       "75%    1.621708e+09  161.147595     0.380790    0.330500    1.062096   \n",
       "max    2.147438e+09  472.250000     0.777097    0.524000    1.840999   \n",
       "\n",
       "               Rg  \n",
       "count  614.000000  \n",
       "mean    16.419787  \n",
       "std      4.608640  \n",
       "min      9.728355  \n",
       "25%     12.540328  \n",
       "50%     15.052194  \n",
       "75%     20.411067  \n",
       "max     34.672906  "
      ]
     },
     "execution_count": 10,
     "metadata": {},
     "output_type": "execute_result"
    }
   ],
   "source": [
    "train_data.describe()"
   ]
  },
  {
   "cell_type": "code",
   "execution_count": 82,
   "id": "0e580b4f-d0cf-4428-a51b-a60daec98e0c",
   "metadata": {},
   "outputs": [],
   "source": [
    "class Config:\n",
    "    TARGET_LIST = ['FFV', 'Tg', 'Tc', 'Density', 'Rg']\n",
    "    \n",
    "    def get_canonical_smiles(self, smiles):\n",
    "        mol = Chem.MolFromSmiles(smiles)\n",
    "        flag = Chem.SanitizeMol(mol, catchErrors=True)\n",
    "        \n",
    "        if flag != Chem.rdmolops.SanitizeFlags.SANITIZE_NONE:\n",
    "            Chem.SanitizeMol(mol, sanitizeOps=Chem.rdmolops.SanitizeFlags.SANITIZE_ALL ^ flag)\n",
    "\n",
    "        smiles = Chem.MolToSmiles(mol, canonical=True)\n",
    "        \n",
    "        return smiles\n",
    "        \n",
    "    def vectorize_smiles(self, smiles: str):\n",
    "        smiles = self.get_canonical_smiles(smiles)\n",
    "        mol = Chem.MolFromSmiles(smiles)\n",
    "        \n",
    "        descriptors = {\n",
    "            'MW': Descriptors.MolWt(mol),\n",
    "            'HBA': Descriptors.NOCount(mol),\n",
    "            'HBD': Descriptors.NHOHCount(mol),\n",
    "            'LogP': Descriptors.MolLogP(mol),\n",
    "            'TPSA': Descriptors.TPSA(mol),\n",
    "            'EtherCount': Chem.Fragments.fr_ether(mol),\n",
    "            'EsterCount': Chem.Fragments.fr_ester(mol),\n",
    "            'AmideCount': Chem.Fragments.fr_amide(mol),\n",
    "            'AromaticRingCount': Chem.rdMolDescriptors.CalcNumAromaticRings(mol),\n",
    "            'BertzCT': Descriptors.BertzCT(mol),\n",
    "            'BalabanJ': Descriptors.BalabanJ(mol)\n",
    "        }\n",
    "        morgen = AllChem.GetMorganGenerator(radius=2, fpSize=2048)\n",
    "        fp = morgen.GetFingerprint(mol)\n",
    "        fp_feat = {idx: int(bit) for idx, bit in enumerate(fp)} \n",
    "        descriptors.update(fp_feat)\n",
    "        return descriptors\n",
    "\n",
    "config = Config()"
   ]
  },
  {
   "cell_type": "code",
   "execution_count": 79,
   "id": "282f5a8f-5c62-4746-9faf-7f0f88a3a6d7",
   "metadata": {},
   "outputs": [
    {
     "data": {
      "text/plain": [
       "False"
      ]
     },
     "execution_count": 79,
     "metadata": {},
     "output_type": "execute_result"
    }
   ],
   "source": [
    "train_data.duplicated(subset='SMILES').any()"
   ]
  },
  {
   "cell_type": "code",
   "execution_count": 80,
   "id": "e4edde82-c7ab-40f5-a971-d32c473f6406",
   "metadata": {},
   "outputs": [],
   "source": [
    "feature_df = pd.json_normalize(train_data['SMILES'].apply(config.vectorize_smiles))"
   ]
  },
  {
   "cell_type": "code",
   "execution_count": 81,
   "id": "f5fa34fe-a3b8-4dcb-9f07-77a170cdeb24",
   "metadata": {
    "scrolled": true
   },
   "outputs": [],
   "source": [
    "data = pd.concat([train_data, feature_df.reset_index(drop=True)], axis=1)"
   ]
  },
  {
   "cell_type": "markdown",
   "id": "3012885b-7c9a-4b1e-bf54-34d6562101b7",
   "metadata": {},
   "source": [
    "# DeepChem test"
   ]
  },
  {
   "cell_type": "code",
   "execution_count": 14,
   "id": "e60bce2f-9194-4da6-94ad-c96e242bd912",
   "metadata": {},
   "outputs": [],
   "source": [
    "featurizer = dc.feat.MordredDescriptors(ignore_3D=True)\n",
    "train_data['desc'] = train_data['SMILES'].apply(featurizer)"
   ]
  },
  {
   "cell_type": "code",
   "execution_count": 9,
   "id": "75548309-332e-4e58-adc4-227f1511107f",
   "metadata": {},
   "outputs": [],
   "source": [
    "def remove_asterisk(smiles):\n",
    "    smiles = smiles.replace('*', '')\n",
    "    smiles = smiles.replace('(*)', '')\n",
    "    smiles = smiles.replace('()', '')\n",
    "\n",
    "    return smiles"
   ]
  },
  {
   "cell_type": "code",
   "execution_count": 10,
   "id": "8c0e6bd4-f372-4851-bc31-a16b152f0960",
   "metadata": {},
   "outputs": [],
   "source": [
    "train_data = pd.read_pickle('data/descriptors_calc.pkl')\n",
    "train_data['corrected_smiles'] = train_data['SMILES'].apply(remove_asterisk)"
   ]
  },
  {
   "cell_type": "code",
   "execution_count": 11,
   "id": "bb6d574d-ed29-49b3-9711-09f68cae121f",
   "metadata": {},
   "outputs": [],
   "source": [
    "train_ffv = train_data[train_data['FFV'].notnull()][['id', 'SMILES', 'corrected_smiles', 'FFV', 'desc']]\n",
    "train_tg = train_data[train_data['Tg'].notnull()][['id', 'SMILES', 'corrected_smiles', 'Tg', 'desc']]\n",
    "train_tc = train_data[train_data['Tc'].notnull()][['id', 'SMILES', 'corrected_smiles', 'Tc', 'desc']]\n",
    "train_density = train_data[train_data['Density'].notnull()][['id', 'SMILES', 'corrected_smiles', 'Density', 'desc']]\n",
    "train_rg = train_data[train_data['Rg'].notnull()][['id', 'SMILES', 'corrected_smiles', 'Rg', 'desc']]"
   ]
  },
  {
   "cell_type": "code",
   "execution_count": 12,
   "id": "d5dbda83-5eaa-45c2-9968-524d8e30881d",
   "metadata": {},
   "outputs": [],
   "source": [
    "X = np.vstack(train_ffv['desc'])\n",
    "y = np.array(train_ffv['FFV'])"
   ]
  },
  {
   "cell_type": "code",
   "execution_count": 13,
   "id": "2dfa27bf-cdda-4bbc-9200-21deb4efbf56",
   "metadata": {},
   "outputs": [],
   "source": [
    "nan_mask = np.isnan(X)\n",
    "rows_with_nan = np.where(nan_mask.any(axis=1))[0]\n",
    "cols_with_nan = np.where(nan_mask.any(axis=0))[0]\n"
   ]
  },
  {
   "cell_type": "code",
   "execution_count": 14,
   "id": "45c12089-7f8b-4553-8c7f-830e6f78476f",
   "metadata": {},
   "outputs": [
    {
     "data": {
      "text/plain": [
       "array([1208, 1209, 1210, 1211, 1212, 1221, 1222, 1223, 1224, 1229, 1230,\n",
       "       1231, 1232, 1237, 1238, 1239, 1240, 1242, 1243, 1244, 1245, 1246,\n",
       "       1247, 1250, 1251, 1252, 1305, 1411, 1412])"
      ]
     },
     "execution_count": 14,
     "metadata": {},
     "output_type": "execute_result"
    }
   ],
   "source": [
    "cols_with_nan"
   ]
  },
  {
   "cell_type": "code",
   "execution_count": 15,
   "id": "fe2d8846-7494-4275-8b32-074b25c2f37e",
   "metadata": {},
   "outputs": [],
   "source": [
    "X_clean = X[:, ~cols_with_nan]"
   ]
  },
  {
   "cell_type": "code",
   "execution_count": 16,
   "id": "1b1ee1a6-93bf-4ea3-818f-cecf693c78a2",
   "metadata": {},
   "outputs": [],
   "source": [
    "scaler = StandardScaler()\n",
    "X_scaled = scaler.fit_transform(X_clean)"
   ]
  },
  {
   "cell_type": "code",
   "execution_count": 67,
   "id": "cf7da581-44df-4ab1-a6b8-a3cdb5a25bad",
   "metadata": {
    "scrolled": true
   },
   "outputs": [
    {
     "name": "stdout",
     "output_type": "stream",
     "text": [
      "Fold 1/5\n",
      "Fold 2/5\n",
      "Fold 3/5\n",
      "Fold 4/5\n",
      "Fold 5/5\n",
      "\n",
      "==== Cross-Validation Results ====\n",
      "\n",
      "SVR Model:\n",
      "  RMSE: 0.0565 ± 0.0020\n",
      "  Pearson r: -0.0408 ± 0.0310\n",
      "  MAE: 0.0481 ± 0.0012\n",
      "\n",
      "XGB Model:\n",
      "  RMSE: 0.0409 ± 0.0021\n",
      "  Pearson r: 0.1198 ± 0.0508\n",
      "  MAE: 0.0285 ± 0.0012\n",
      "\n",
      "LinearRegression Model:\n",
      "  RMSE: 0.0387 ± 0.0024\n",
      "  Pearson r: 0.0636 ± 0.0494\n",
      "  MAE: 0.0276 ± 0.0010\n",
      "\n",
      "MLP Model:\n",
      "  RMSE: 0.0772 ± 0.0084\n",
      "  Pearson r: 0.0558 ± 0.0062\n",
      "  MAE: 0.0398 ± 0.0021\n",
      "\n",
      "RandomForest Model:\n",
      "  RMSE: 0.0394 ± 0.0020\n",
      "  Pearson r: 0.1386 ± 0.0550\n",
      "  MAE: 0.0274 ± 0.0009\n",
      "\n",
      "ExtraTrees Model:\n",
      "  RMSE: 0.0387 ± 0.0020\n",
      "  Pearson r: 0.1162 ± 0.0800\n",
      "  MAE: 0.0274 ± 0.0008\n",
      "\n",
      "AdaBoost Model:\n",
      "  RMSE: 0.0466 ± 0.0003\n",
      "  Pearson r: 0.0627 ± 0.0230\n",
      "  MAE: 0.0375 ± 0.0017\n",
      "\n"
     ]
    }
   ],
   "source": [
    "def _store_metrics(results_dict, model_name, y_true, y_pred):\n",
    "    rmse = root_mean_squared_error(y_true, y_pred)\n",
    "    pearson, _ = pearsonr(y_true, y_pred)\n",
    "    mae = mean_absolute_error(y_true, y_pred)\n",
    "    results_dict[model_name]['rmse'].append(rmse)\n",
    "    results_dict[model_name]['pearsonr'].append(pearson)\n",
    "    results_dict[model_name]['mae'].append(mae)\n",
    "\n",
    "results = {\n",
    "        'SVR': {'rmse': [], 'pearsonr': [], 'mae': []},\n",
    "        'XGB': {'rmse': [], 'pearsonr': [], 'mae': []},\n",
    "        'LinearRegression': {'rmse': [], 'pearsonr': [], 'mae': []},\n",
    "        'MLP': {'rmse': [], 'pearsonr': [], 'mae': []},\n",
    "        'RandomForest': {'rmse': [], 'pearsonr': [], 'mae': []},\n",
    "        'ExtraTrees': {'rmse': [], 'pearsonr': [], 'mae': []},\n",
    "        'AdaBoost': {'rmse': [], 'pearsonr': [], 'mae': []},\n",
    "    }\n",
    "    \n",
    "for fold in range(5):\n",
    "    print(f\"Fold {fold+1}/5\")\n",
    "    \n",
    "    split_dict = e_splits['C1e'][fold]\n",
    "    train_index, val_index, test_index = [], [], []\n",
    "    \n",
    "    for index, idx in enumerate(train_ffv['id']):\n",
    "        split = split_dict.get(idx)\n",
    "        if split == 'train':\n",
    "            train_index.append(index)\n",
    "        elif split == 'val':\n",
    "            val_index.append(index)\n",
    "\n",
    "    X_train, X_val = X_scaled[train_index], X_scaled[val_index]\n",
    "    y_train, y_val = y[train_index], y[val_index]\n",
    "    \n",
    "    svr_model = SVR(kernel='rbf', C=1.0, epsilon=0.1)\n",
    "    svr_model.fit(X_train, y_train)\n",
    "    y_pred_svr = svr_model.predict(X_val)\n",
    "    _store_metrics(results, 'SVR', y_val, y_pred_svr)\n",
    "\n",
    "    xgb_model = xgb.XGBRegressor(n_estimators=300, objective='reg:squarederror', random_state=42)\n",
    "    xgb_model.fit(X_train, y_train)\n",
    "    y_pred_xgb = xgb_model.predict(X_val)\n",
    "    _store_metrics(results, 'XGB', y_val, y_pred_xgb)\n",
    "\n",
    "    lr_model = LinearRegression()\n",
    "    lr_model.fit(X_train, y_train)\n",
    "    y_pred_lr = lr_model.predict(X_val)\n",
    "    _store_metrics(results, 'LinearRegression', y_val, y_pred_lr)\n",
    "\n",
    "    mlp_model = MLPRegressor(hidden_layer_sizes=(64, 64), max_iter=1000, random_state=42)\n",
    "    mlp_model.fit(X_train, y_train)\n",
    "    y_pred_mlp = mlp_model.predict(X_val)\n",
    "    _store_metrics(results, 'MLP', y_val, y_pred_mlp)\n",
    "\n",
    "    rf_model = RandomForestRegressor(n_estimators=100, random_state=42, n_jobs=-1)\n",
    "    rf_model.fit(X_train, y_train)\n",
    "    y_pred_rf = rf_model.predict(X_val)\n",
    "    _store_metrics(results, 'RandomForest', y_val, y_pred_rf)\n",
    "\n",
    "    et_model = ExtraTreesRegressor(n_estimators=100, random_state=42, n_jobs=-1)\n",
    "    et_model.fit(X_train, y_train)\n",
    "    y_pred_et = et_model.predict(X_val)\n",
    "    _store_metrics(results, 'ExtraTrees', y_val, y_pred_et)\n",
    "\n",
    "    ab_model = AdaBoostRegressor(n_estimators=100, random_state=42)\n",
    "    ab_model.fit(X_train, y_train)\n",
    "    y_pred_ab = ab_model.predict(X_val)\n",
    "    _store_metrics(results, 'AdaBoost', y_val, y_pred_ab)\n",
    "\n",
    "print(\"\\n==== Cross-Validation Results ====\\n\")\n",
    "for model in results:\n",
    "    mean_rmse = np.mean(results[model]['rmse'])\n",
    "    std_rmse = np.std(results[model]['rmse'])\n",
    "    mean_pearsonr = np.mean(results[model]['pearsonr'])\n",
    "    std_pearsonr = np.std(results[model]['pearsonr'])\n",
    "    mean_mae = np.mean(results[model]['mae'])\n",
    "    std_mae = np.std(results[model]['mae'])\n",
    "    \n",
    "    print(f\"{model} Model:\")\n",
    "    print(f\"  RMSE: {mean_rmse:.4f} ± {std_rmse:.4f}\")\n",
    "    print(f\"  Pearson r: {mean_pearsonr:.4f} ± {std_pearsonr:.4f}\")\n",
    "    print(f\"  MAE: {mean_mae:.4f} ± {std_mae:.4f}\")\n",
    "    print()\n"
   ]
  },
  {
   "cell_type": "code",
   "execution_count": 259,
   "id": "2cd1d961-b486-4cce-8be0-050c7bbbf2a9",
   "metadata": {},
   "outputs": [],
   "source": [
    "params = {'objective': 'reg:squarederror',\n",
    "         'eval_metric': 'mae',\n",
    "         'random_state': SEED,\n",
    "         'verbosity': 0}\n",
    "\n",
    "def cv_target(X, y):\n",
    "    cv_scores = []\n",
    "    X['id'] = X['id'].astype(str)\n",
    "    for fold in range(5):\n",
    "        split_dict = datasail_split['C1e'][fold]\n",
    "        train_index, val_index = [], []\n",
    "        \n",
    "        for index, idx in enumerate(X['id']):\n",
    "            split = split_dict.get(idx)\n",
    "            if split == 'train':\n",
    "                train_index.append(index)\n",
    "            elif split == 'val':\n",
    "                val_index.append(index)\n",
    "        \n",
    "        dtrain = xgb.DMatrix(X.iloc[train_index].drop(columns=['id']), label=y.iloc[train_index])\n",
    "        dval = xgb.DMatrix(X.iloc[val_index].drop(columns=['id']), label=y.iloc[val_index])\n",
    "        \n",
    "        result_dict = {}\n",
    "        xgb_model = xgb.train(\n",
    "            params,\n",
    "            dtrain, \n",
    "            evals=[(dtrain, 'train'), (dval, 'val')], \n",
    "            num_boost_round=10000,\n",
    "            early_stopping_rounds=100, \n",
    "            verbose_eval=False,\n",
    "            evals_result=result_dict\n",
    "            )\n",
    "\n",
    "        cv_scores.append(xgb_model.best_score)\n",
    "    print(cv_scores)"
   ]
  },
  {
   "cell_type": "code",
   "execution_count": 260,
   "id": "c408c9f5-8c70-4fe3-a875-65a2e51c9324",
   "metadata": {},
   "outputs": [],
   "source": [
    "with open('data/datasail_split.json', 'r') as f:\n",
    "    datasail_split = json.load(f)"
   ]
  },
  {
   "cell_type": "code",
   "execution_count": 261,
   "id": "46e30fd0-f1e2-41eb-899a-3ae1ed29f477",
   "metadata": {
    "scrolled": true
   },
   "outputs": [
    {
     "name": "stdout",
     "output_type": "stream",
     "text": [
      "[0.01521677651669273, 0.01521677651669273, 0.01311715982334043, 0.01620376556981826, 0.01521677651669273]\n",
      "[41.040643539428714, 41.040643539428714, 42.968795146260945, 48.35164682727215, 41.040643539428714]\n",
      "[0.03905756476004262, 0.03905756476004262, 0.03559246493710412, 0.04353667826541347, 0.03905756476004262]\n",
      "[0.10499180032965842, 0.10499180032965842, 0.06974246295598838, 0.07023789019851417, 0.10499180032965842]\n",
      "[2.5264506182827793, 2.5264506182827793, 2.3046183406182057, 1.8499537073332688, 2.5264506182827793]\n"
     ]
    }
   ],
   "source": [
    "for target in config.TARGET_LIST:\n",
    "    X = data[data[target].notnull()].filter(items=['id']).join(data.iloc[:, 7:])\n",
    "    y = data[data[target].notnull()].loc[:, target]\n",
    "\n",
    "    cv_target(X, y)"
   ]
  },
  {
   "cell_type": "markdown",
   "id": "b2340110-35c5-401e-aa80-bb0033f051b8",
   "metadata": {},
   "source": [
    "# Optuna"
   ]
  },
  {
   "cell_type": "code",
   "execution_count": 268,
   "id": "a81a8bd2-2abb-42d3-85c6-ab6367b8e2b3",
   "metadata": {},
   "outputs": [
    {
     "name": "stderr",
     "output_type": "stream",
     "text": [
      "/home/matikmate/miniconda3/envs/ml/lib/python3.12/site-packages/tqdm/auto.py:21: TqdmWarning: IProgress not found. Please update jupyter and ipywidgets. See https://ipywidgets.readthedocs.io/en/stable/user_install.html\n",
      "  from .autonotebook import tqdm as notebook_tqdm\n"
     ]
    }
   ],
   "source": [
    "import optuna"
   ]
  },
  {
   "cell_type": "code",
   "execution_count": 263,
   "id": "021d6235-b66f-469e-a288-e8155783836e",
   "metadata": {},
   "outputs": [],
   "source": [
    "def objective(trial, X, y):\n",
    "    params = {\n",
    "            'objective': 'reg:squarederror',\n",
    "            'eval_metric': 'mae',\n",
    "            'random_state': SEED,\n",
    "            'verbosity': 0,\n",
    "            'learning_rate': trial.suggest_float('learning_rate', 0.01, 0.1, log=True),\n",
    "            'max_depth': trial.suggest_int('max_depth', 5, 20),\n",
    "            'subsample': trial.suggest_float('subsample', 0.6, 1.0),\n",
    "            'colsample_bytree': trial.suggest_float('colsample_bytree', 0.6, 1.0),\n",
    "            'gamma': trial.suggest_float('gamma', 1e-8, 1.0, log=True),\n",
    "            'reg_alpha': trial.suggest_float('reg_alpha', 1e-8, 1.0, log=True),\n",
    "            'reg_lambda': trial.suggest_float('reg_lambda', 1e-8, 2.0, log=True),\n",
    "            'min_child_weight': trial.suggest_int('min_child_weight', 1, 10)\n",
    "        }\n",
    "        \n",
    "    cv_scores = []\n",
    "    X['id'] = X['id'].astype(str)\n",
    "    \n",
    "    for fold in range(5):\n",
    "        split_dict = datasail_split['C1e'][fold]\n",
    "        train_index, val_index = [], []\n",
    "        \n",
    "        for index, idx in enumerate(X['id']):\n",
    "            split = split_dict.get(idx)\n",
    "            if split == 'train':\n",
    "                train_index.append(index)\n",
    "            elif split == 'val':\n",
    "                val_index.append(index)\n",
    "        \n",
    "        dtrain = xgb.DMatrix(X.iloc[train_index].drop(columns=['id']), label=y.iloc[train_index])\n",
    "        dval = xgb.DMatrix(X.iloc[val_index].drop(columns=['id']), label=y.iloc[val_index])\n",
    "        \n",
    "        result_dict = {}\n",
    "        xgb_model = xgb.train(\n",
    "            params,\n",
    "            dtrain, \n",
    "            evals=[(dtrain, 'train'), (dval, 'val')], \n",
    "            num_boost_round=10000,\n",
    "            early_stopping_rounds=100, \n",
    "            verbose_eval=False,\n",
    "            evals_result=result_dict\n",
    "            )\n",
    "\n",
    "        cv_scores.append(xgb_model.best_score)\n",
    "        \n",
    "    return np.mean(cv_scores)"
   ]
  },
  {
   "cell_type": "code",
   "execution_count": 271,
   "id": "da2582fb-6439-4cf2-b448-bafe860fb80e",
   "metadata": {
    "scrolled": true
   },
   "outputs": [
    {
     "name": "stderr",
     "output_type": "stream",
     "text": [
      "[I 2025-07-02 16:18:06,811] A new study created in memory with name: no-name-791669f6-f687-47c5-a2a9-d64d4efa6c2c\n",
      "Best trial: 0. Best value: 0.0148728:  10%|████▌                                        | 1/10 [02:17<20:41, 138.00s/it]"
     ]
    },
    {
     "name": "stdout",
     "output_type": "stream",
     "text": [
      "[I 2025-07-02 16:20:24,804] Trial 0 finished with value: 0.014872777724479641 and parameters: {'learning_rate': 0.023688639503640783, 'max_depth': 20, 'subsample': 0.892797576724562, 'colsample_bytree': 0.8394633936788146, 'gamma': 1.77071686435378e-07, 'reg_alpha': 1.7699302940633311e-07, 'reg_lambda': 3.0349658373387986e-08, 'min_child_weight': 9}. Best is trial 0 with value: 0.014872777724479641.\n"
     ]
    },
    {
     "name": "stderr",
     "output_type": "stream",
     "text": [
      "Best trial: 0. Best value: 0.0148728:  20%|█████████▏                                    | 2/10 [03:07<11:26, 85.77s/it]"
     ]
    },
    {
     "name": "stdout",
     "output_type": "stream",
     "text": [
      "[I 2025-07-02 16:21:14,021] Trial 1 finished with value: 0.02014219145304117 and parameters: {'learning_rate': 0.039913058785616795, 'max_depth': 16, 'subsample': 0.608233797718321, 'colsample_bytree': 0.9879639408647978, 'gamma': 0.04566054873446119, 'reg_alpha': 4.997040685255803e-07, 'reg_lambda': 3.230981763448075e-07, 'min_child_weight': 2}. Best is trial 0 with value: 0.014872777724479641.\n"
     ]
    },
    {
     "name": "stderr",
     "output_type": "stream",
     "text": [
      "Best trial: 0. Best value: 0.0148728:  30%|█████████████▊                                | 3/10 [04:24<09:33, 81.93s/it]"
     ]
    },
    {
     "name": "stdout",
     "output_type": "stream",
     "text": [
      "[I 2025-07-02 16:22:31,381] Trial 2 finished with value: 0.0158219140994273 and parameters: {'learning_rate': 0.02014847788415866, 'max_depth': 13, 'subsample': 0.7727780074568463, 'colsample_bytree': 0.7164916560792167, 'gamma': 0.000784915956255507, 'reg_alpha': 1.3060231803531604e-07, 'reg_lambda': 2.661346919049238e-06, 'min_child_weight': 4}. Best is trial 0 with value: 0.014872777724479641.\n"
     ]
    },
    {
     "name": "stderr",
     "output_type": "stream",
     "text": [
      "Best trial: 0. Best value: 0.0148728:  30%|█████████████▌                               | 3/10 [06:18<14:43, 126.24s/it]"
     ]
    },
    {
     "name": "stdout",
     "output_type": "stream",
     "text": [
      "[W 2025-07-02 16:24:25,511] Trial 3 failed with parameters: {'learning_rate': 0.028580510658069373, 'max_depth': 17, 'subsample': 0.6798695128633439, 'colsample_bytree': 0.8056937753654446, 'gamma': 0.0005486767416600901, 'reg_alpha': 2.3528990899815284e-08, 'reg_lambda': 0.0011047093743042338, 'min_child_weight': 2} because of the following error: KeyboardInterrupt().\n",
      "Traceback (most recent call last):\n",
      "  File \"/home/matikmate/miniconda3/envs/ml/lib/python3.12/site-packages/optuna/study/_optimize.py\", line 201, in _run_trial\n",
      "    value_or_values = func(trial)\n",
      "                      ^^^^^^^^^^^\n",
      "  File \"/tmp/ipykernel_1438/1168173507.py\", line 5, in <lambda>\n",
      "    study.optimize(lambda trial: objective(trial, X, y), n_trials=10, show_progress_bar=True)\n",
      "                                 ^^^^^^^^^^^^^^^^^^^^^^\n",
      "  File \"/tmp/ipykernel_1438/2926780783.py\", line 35, in objective\n",
      "    xgb_model = xgb.train(\n",
      "                ^^^^^^^^^^\n",
      "  File \"/home/matikmate/miniconda3/envs/ml/lib/python3.12/site-packages/xgboost/core.py\", line 729, in inner_f\n",
      "    return func(**kwargs)\n",
      "           ^^^^^^^^^^^^^^\n",
      "  File \"/home/matikmate/miniconda3/envs/ml/lib/python3.12/site-packages/xgboost/training.py\", line 183, in train\n",
      "    bst.update(dtrain, iteration=i, fobj=obj)\n",
      "  File \"/home/matikmate/miniconda3/envs/ml/lib/python3.12/site-packages/xgboost/core.py\", line 2243, in update\n",
      "    self._assign_dmatrix_features(dtrain)\n",
      "  File \"/home/matikmate/miniconda3/envs/ml/lib/python3.12/site-packages/xgboost/core.py\", line 3201, in _assign_dmatrix_features\n",
      "    ft = data.feature_types\n",
      "         ^^^^^^^^^^^^^^^^^^\n",
      "  File \"/home/matikmate/miniconda3/envs/ml/lib/python3.12/site-packages/xgboost/core.py\", line 1401, in feature_types\n",
      "    res = from_cstr_to_pystr(sarr, length)\n",
      "          ^^^^^^^^^^^^^^^^^^^^^^^^^^^^^^^^\n",
      "  File \"/home/matikmate/miniconda3/envs/ml/lib/python3.12/site-packages/xgboost/core.py\", line 117, in from_cstr_to_pystr\n",
      "    res.append(str(cast(bytes, data[i]).decode(\"ascii\")))\n",
      "                   ^^^^^^^^^^^^^^^^^^^^^^^^^^^^^^^^^^^^\n",
      "KeyboardInterrupt\n",
      "[W 2025-07-02 16:24:25,519] Trial 3 failed with value None.\n"
     ]
    },
    {
     "name": "stderr",
     "output_type": "stream",
     "text": [
      "\n"
     ]
    },
    {
     "ename": "KeyboardInterrupt",
     "evalue": "",
     "output_type": "error",
     "traceback": [
      "\u001b[0;31m---------------------------------------------------------------------------\u001b[0m",
      "\u001b[0;31mKeyboardInterrupt\u001b[0m                         Traceback (most recent call last)",
      "Cell \u001b[0;32mIn[271], line 5\u001b[0m\n\u001b[1;32m      3\u001b[0m y \u001b[38;5;241m=\u001b[39m data[data[target]\u001b[38;5;241m.\u001b[39mnotnull()]\u001b[38;5;241m.\u001b[39mloc[:, target]\n\u001b[1;32m      4\u001b[0m study \u001b[38;5;241m=\u001b[39m optuna\u001b[38;5;241m.\u001b[39mcreate_study(direction\u001b[38;5;241m=\u001b[39m\u001b[38;5;124m'\u001b[39m\u001b[38;5;124mminimize\u001b[39m\u001b[38;5;124m'\u001b[39m, sampler\u001b[38;5;241m=\u001b[39moptuna\u001b[38;5;241m.\u001b[39msamplers\u001b[38;5;241m.\u001b[39mTPESampler(seed\u001b[38;5;241m=\u001b[39mSEED), pruner\u001b[38;5;241m=\u001b[39moptuna\u001b[38;5;241m.\u001b[39mpruners\u001b[38;5;241m.\u001b[39mMedianPruner(n_warmup_steps\u001b[38;5;241m=\u001b[39m\u001b[38;5;241m10\u001b[39m))\n\u001b[0;32m----> 5\u001b[0m \u001b[43mstudy\u001b[49m\u001b[38;5;241;43m.\u001b[39;49m\u001b[43moptimize\u001b[49m\u001b[43m(\u001b[49m\u001b[38;5;28;43;01mlambda\u001b[39;49;00m\u001b[43m \u001b[49m\u001b[43mtrial\u001b[49m\u001b[43m:\u001b[49m\u001b[43m \u001b[49m\u001b[43mobjective\u001b[49m\u001b[43m(\u001b[49m\u001b[43mtrial\u001b[49m\u001b[43m,\u001b[49m\u001b[43m \u001b[49m\u001b[43mX\u001b[49m\u001b[43m,\u001b[49m\u001b[43m \u001b[49m\u001b[43my\u001b[49m\u001b[43m)\u001b[49m\u001b[43m,\u001b[49m\u001b[43m \u001b[49m\u001b[43mn_trials\u001b[49m\u001b[38;5;241;43m=\u001b[39;49m\u001b[38;5;241;43m10\u001b[39;49m\u001b[43m,\u001b[49m\u001b[43m \u001b[49m\u001b[43mshow_progress_bar\u001b[49m\u001b[38;5;241;43m=\u001b[39;49m\u001b[38;5;28;43;01mTrue\u001b[39;49;00m\u001b[43m)\u001b[49m\n\u001b[1;32m      6\u001b[0m \u001b[38;5;28mprint\u001b[39m(\u001b[38;5;124mf\u001b[39m\u001b[38;5;124m'\u001b[39m\u001b[38;5;124mFor target: \u001b[39m\u001b[38;5;132;01m{\u001b[39;00mtarget\u001b[38;5;132;01m}\u001b[39;00m\u001b[38;5;124m MAE:\u001b[39m\u001b[38;5;132;01m{\u001b[39;00mstudy\u001b[38;5;241m.\u001b[39mbest_value\u001b[38;5;132;01m}\u001b[39;00m\u001b[38;5;124m'\u001b[39m)\n",
      "File \u001b[0;32m~/miniconda3/envs/ml/lib/python3.12/site-packages/optuna/study/study.py:489\u001b[0m, in \u001b[0;36mStudy.optimize\u001b[0;34m(self, func, n_trials, timeout, n_jobs, catch, callbacks, gc_after_trial, show_progress_bar)\u001b[0m\n\u001b[1;32m    387\u001b[0m \u001b[38;5;28;01mdef\u001b[39;00m \u001b[38;5;21moptimize\u001b[39m(\n\u001b[1;32m    388\u001b[0m     \u001b[38;5;28mself\u001b[39m,\n\u001b[1;32m    389\u001b[0m     func: ObjectiveFuncType,\n\u001b[0;32m   (...)\u001b[0m\n\u001b[1;32m    396\u001b[0m     show_progress_bar: \u001b[38;5;28mbool\u001b[39m \u001b[38;5;241m=\u001b[39m \u001b[38;5;28;01mFalse\u001b[39;00m,\n\u001b[1;32m    397\u001b[0m ) \u001b[38;5;241m-\u001b[39m\u001b[38;5;241m>\u001b[39m \u001b[38;5;28;01mNone\u001b[39;00m:\n\u001b[1;32m    398\u001b[0m \u001b[38;5;250m    \u001b[39m\u001b[38;5;124;03m\"\"\"Optimize an objective function.\u001b[39;00m\n\u001b[1;32m    399\u001b[0m \n\u001b[1;32m    400\u001b[0m \u001b[38;5;124;03m    Optimization is done by choosing a suitable set of hyperparameter values from a given\u001b[39;00m\n\u001b[0;32m   (...)\u001b[0m\n\u001b[1;32m    487\u001b[0m \u001b[38;5;124;03m            If nested invocation of this method occurs.\u001b[39;00m\n\u001b[1;32m    488\u001b[0m \u001b[38;5;124;03m    \"\"\"\u001b[39;00m\n\u001b[0;32m--> 489\u001b[0m     \u001b[43m_optimize\u001b[49m\u001b[43m(\u001b[49m\n\u001b[1;32m    490\u001b[0m \u001b[43m        \u001b[49m\u001b[43mstudy\u001b[49m\u001b[38;5;241;43m=\u001b[39;49m\u001b[38;5;28;43mself\u001b[39;49m\u001b[43m,\u001b[49m\n\u001b[1;32m    491\u001b[0m \u001b[43m        \u001b[49m\u001b[43mfunc\u001b[49m\u001b[38;5;241;43m=\u001b[39;49m\u001b[43mfunc\u001b[49m\u001b[43m,\u001b[49m\n\u001b[1;32m    492\u001b[0m \u001b[43m        \u001b[49m\u001b[43mn_trials\u001b[49m\u001b[38;5;241;43m=\u001b[39;49m\u001b[43mn_trials\u001b[49m\u001b[43m,\u001b[49m\n\u001b[1;32m    493\u001b[0m \u001b[43m        \u001b[49m\u001b[43mtimeout\u001b[49m\u001b[38;5;241;43m=\u001b[39;49m\u001b[43mtimeout\u001b[49m\u001b[43m,\u001b[49m\n\u001b[1;32m    494\u001b[0m \u001b[43m        \u001b[49m\u001b[43mn_jobs\u001b[49m\u001b[38;5;241;43m=\u001b[39;49m\u001b[43mn_jobs\u001b[49m\u001b[43m,\u001b[49m\n\u001b[1;32m    495\u001b[0m \u001b[43m        \u001b[49m\u001b[43mcatch\u001b[49m\u001b[38;5;241;43m=\u001b[39;49m\u001b[38;5;28;43mtuple\u001b[39;49m\u001b[43m(\u001b[49m\u001b[43mcatch\u001b[49m\u001b[43m)\u001b[49m\u001b[43m \u001b[49m\u001b[38;5;28;43;01mif\u001b[39;49;00m\u001b[43m \u001b[49m\u001b[38;5;28;43misinstance\u001b[39;49m\u001b[43m(\u001b[49m\u001b[43mcatch\u001b[49m\u001b[43m,\u001b[49m\u001b[43m \u001b[49m\u001b[43mIterable\u001b[49m\u001b[43m)\u001b[49m\u001b[43m \u001b[49m\u001b[38;5;28;43;01melse\u001b[39;49;00m\u001b[43m \u001b[49m\u001b[43m(\u001b[49m\u001b[43mcatch\u001b[49m\u001b[43m,\u001b[49m\u001b[43m)\u001b[49m\u001b[43m,\u001b[49m\n\u001b[1;32m    496\u001b[0m \u001b[43m        \u001b[49m\u001b[43mcallbacks\u001b[49m\u001b[38;5;241;43m=\u001b[39;49m\u001b[43mcallbacks\u001b[49m\u001b[43m,\u001b[49m\n\u001b[1;32m    497\u001b[0m \u001b[43m        \u001b[49m\u001b[43mgc_after_trial\u001b[49m\u001b[38;5;241;43m=\u001b[39;49m\u001b[43mgc_after_trial\u001b[49m\u001b[43m,\u001b[49m\n\u001b[1;32m    498\u001b[0m \u001b[43m        \u001b[49m\u001b[43mshow_progress_bar\u001b[49m\u001b[38;5;241;43m=\u001b[39;49m\u001b[43mshow_progress_bar\u001b[49m\u001b[43m,\u001b[49m\n\u001b[1;32m    499\u001b[0m \u001b[43m    \u001b[49m\u001b[43m)\u001b[49m\n",
      "File \u001b[0;32m~/miniconda3/envs/ml/lib/python3.12/site-packages/optuna/study/_optimize.py:64\u001b[0m, in \u001b[0;36m_optimize\u001b[0;34m(study, func, n_trials, timeout, n_jobs, catch, callbacks, gc_after_trial, show_progress_bar)\u001b[0m\n\u001b[1;32m     62\u001b[0m \u001b[38;5;28;01mtry\u001b[39;00m:\n\u001b[1;32m     63\u001b[0m     \u001b[38;5;28;01mif\u001b[39;00m n_jobs \u001b[38;5;241m==\u001b[39m \u001b[38;5;241m1\u001b[39m:\n\u001b[0;32m---> 64\u001b[0m         \u001b[43m_optimize_sequential\u001b[49m\u001b[43m(\u001b[49m\n\u001b[1;32m     65\u001b[0m \u001b[43m            \u001b[49m\u001b[43mstudy\u001b[49m\u001b[43m,\u001b[49m\n\u001b[1;32m     66\u001b[0m \u001b[43m            \u001b[49m\u001b[43mfunc\u001b[49m\u001b[43m,\u001b[49m\n\u001b[1;32m     67\u001b[0m \u001b[43m            \u001b[49m\u001b[43mn_trials\u001b[49m\u001b[43m,\u001b[49m\n\u001b[1;32m     68\u001b[0m \u001b[43m            \u001b[49m\u001b[43mtimeout\u001b[49m\u001b[43m,\u001b[49m\n\u001b[1;32m     69\u001b[0m \u001b[43m            \u001b[49m\u001b[43mcatch\u001b[49m\u001b[43m,\u001b[49m\n\u001b[1;32m     70\u001b[0m \u001b[43m            \u001b[49m\u001b[43mcallbacks\u001b[49m\u001b[43m,\u001b[49m\n\u001b[1;32m     71\u001b[0m \u001b[43m            \u001b[49m\u001b[43mgc_after_trial\u001b[49m\u001b[43m,\u001b[49m\n\u001b[1;32m     72\u001b[0m \u001b[43m            \u001b[49m\u001b[43mreseed_sampler_rng\u001b[49m\u001b[38;5;241;43m=\u001b[39;49m\u001b[38;5;28;43;01mFalse\u001b[39;49;00m\u001b[43m,\u001b[49m\n\u001b[1;32m     73\u001b[0m \u001b[43m            \u001b[49m\u001b[43mtime_start\u001b[49m\u001b[38;5;241;43m=\u001b[39;49m\u001b[38;5;28;43;01mNone\u001b[39;49;00m\u001b[43m,\u001b[49m\n\u001b[1;32m     74\u001b[0m \u001b[43m            \u001b[49m\u001b[43mprogress_bar\u001b[49m\u001b[38;5;241;43m=\u001b[39;49m\u001b[43mprogress_bar\u001b[49m\u001b[43m,\u001b[49m\n\u001b[1;32m     75\u001b[0m \u001b[43m        \u001b[49m\u001b[43m)\u001b[49m\n\u001b[1;32m     76\u001b[0m     \u001b[38;5;28;01melse\u001b[39;00m:\n\u001b[1;32m     77\u001b[0m         \u001b[38;5;28;01mif\u001b[39;00m n_jobs \u001b[38;5;241m==\u001b[39m \u001b[38;5;241m-\u001b[39m\u001b[38;5;241m1\u001b[39m:\n",
      "File \u001b[0;32m~/miniconda3/envs/ml/lib/python3.12/site-packages/optuna/study/_optimize.py:161\u001b[0m, in \u001b[0;36m_optimize_sequential\u001b[0;34m(study, func, n_trials, timeout, catch, callbacks, gc_after_trial, reseed_sampler_rng, time_start, progress_bar)\u001b[0m\n\u001b[1;32m    158\u001b[0m         \u001b[38;5;28;01mbreak\u001b[39;00m\n\u001b[1;32m    160\u001b[0m \u001b[38;5;28;01mtry\u001b[39;00m:\n\u001b[0;32m--> 161\u001b[0m     frozen_trial \u001b[38;5;241m=\u001b[39m \u001b[43m_run_trial\u001b[49m\u001b[43m(\u001b[49m\u001b[43mstudy\u001b[49m\u001b[43m,\u001b[49m\u001b[43m \u001b[49m\u001b[43mfunc\u001b[49m\u001b[43m,\u001b[49m\u001b[43m \u001b[49m\u001b[43mcatch\u001b[49m\u001b[43m)\u001b[49m\n\u001b[1;32m    162\u001b[0m \u001b[38;5;28;01mfinally\u001b[39;00m:\n\u001b[1;32m    163\u001b[0m     \u001b[38;5;66;03m# The following line mitigates memory problems that can be occurred in some\u001b[39;00m\n\u001b[1;32m    164\u001b[0m     \u001b[38;5;66;03m# environments (e.g., services that use computing containers such as GitHub Actions).\u001b[39;00m\n\u001b[1;32m    165\u001b[0m     \u001b[38;5;66;03m# Please refer to the following PR for further details:\u001b[39;00m\n\u001b[1;32m    166\u001b[0m     \u001b[38;5;66;03m# https://github.com/optuna/optuna/pull/325.\u001b[39;00m\n\u001b[1;32m    167\u001b[0m     \u001b[38;5;28;01mif\u001b[39;00m gc_after_trial:\n",
      "File \u001b[0;32m~/miniconda3/envs/ml/lib/python3.12/site-packages/optuna/study/_optimize.py:253\u001b[0m, in \u001b[0;36m_run_trial\u001b[0;34m(study, func, catch)\u001b[0m\n\u001b[1;32m    246\u001b[0m         \u001b[38;5;28;01massert\u001b[39;00m \u001b[38;5;28;01mFalse\u001b[39;00m, \u001b[38;5;124m\"\u001b[39m\u001b[38;5;124mShould not reach.\u001b[39m\u001b[38;5;124m\"\u001b[39m\n\u001b[1;32m    248\u001b[0m \u001b[38;5;28;01mif\u001b[39;00m (\n\u001b[1;32m    249\u001b[0m     frozen_trial\u001b[38;5;241m.\u001b[39mstate \u001b[38;5;241m==\u001b[39m TrialState\u001b[38;5;241m.\u001b[39mFAIL\n\u001b[1;32m    250\u001b[0m     \u001b[38;5;129;01mand\u001b[39;00m func_err \u001b[38;5;129;01mis\u001b[39;00m \u001b[38;5;129;01mnot\u001b[39;00m \u001b[38;5;28;01mNone\u001b[39;00m\n\u001b[1;32m    251\u001b[0m     \u001b[38;5;129;01mand\u001b[39;00m \u001b[38;5;129;01mnot\u001b[39;00m \u001b[38;5;28misinstance\u001b[39m(func_err, catch)\n\u001b[1;32m    252\u001b[0m ):\n\u001b[0;32m--> 253\u001b[0m     \u001b[38;5;28;01mraise\u001b[39;00m func_err\n\u001b[1;32m    254\u001b[0m \u001b[38;5;28;01mreturn\u001b[39;00m frozen_trial\n",
      "File \u001b[0;32m~/miniconda3/envs/ml/lib/python3.12/site-packages/optuna/study/_optimize.py:201\u001b[0m, in \u001b[0;36m_run_trial\u001b[0;34m(study, func, catch)\u001b[0m\n\u001b[1;32m    199\u001b[0m \u001b[38;5;28;01mwith\u001b[39;00m get_heartbeat_thread(trial\u001b[38;5;241m.\u001b[39m_trial_id, study\u001b[38;5;241m.\u001b[39m_storage):\n\u001b[1;32m    200\u001b[0m     \u001b[38;5;28;01mtry\u001b[39;00m:\n\u001b[0;32m--> 201\u001b[0m         value_or_values \u001b[38;5;241m=\u001b[39m \u001b[43mfunc\u001b[49m\u001b[43m(\u001b[49m\u001b[43mtrial\u001b[49m\u001b[43m)\u001b[49m\n\u001b[1;32m    202\u001b[0m     \u001b[38;5;28;01mexcept\u001b[39;00m exceptions\u001b[38;5;241m.\u001b[39mTrialPruned \u001b[38;5;28;01mas\u001b[39;00m e:\n\u001b[1;32m    203\u001b[0m         \u001b[38;5;66;03m# TODO(mamu): Handle multi-objective cases.\u001b[39;00m\n\u001b[1;32m    204\u001b[0m         state \u001b[38;5;241m=\u001b[39m TrialState\u001b[38;5;241m.\u001b[39mPRUNED\n",
      "Cell \u001b[0;32mIn[271], line 5\u001b[0m, in \u001b[0;36m<lambda>\u001b[0;34m(trial)\u001b[0m\n\u001b[1;32m      3\u001b[0m y \u001b[38;5;241m=\u001b[39m data[data[target]\u001b[38;5;241m.\u001b[39mnotnull()]\u001b[38;5;241m.\u001b[39mloc[:, target]\n\u001b[1;32m      4\u001b[0m study \u001b[38;5;241m=\u001b[39m optuna\u001b[38;5;241m.\u001b[39mcreate_study(direction\u001b[38;5;241m=\u001b[39m\u001b[38;5;124m'\u001b[39m\u001b[38;5;124mminimize\u001b[39m\u001b[38;5;124m'\u001b[39m, sampler\u001b[38;5;241m=\u001b[39moptuna\u001b[38;5;241m.\u001b[39msamplers\u001b[38;5;241m.\u001b[39mTPESampler(seed\u001b[38;5;241m=\u001b[39mSEED), pruner\u001b[38;5;241m=\u001b[39moptuna\u001b[38;5;241m.\u001b[39mpruners\u001b[38;5;241m.\u001b[39mMedianPruner(n_warmup_steps\u001b[38;5;241m=\u001b[39m\u001b[38;5;241m10\u001b[39m))\n\u001b[0;32m----> 5\u001b[0m study\u001b[38;5;241m.\u001b[39moptimize(\u001b[38;5;28;01mlambda\u001b[39;00m trial: \u001b[43mobjective\u001b[49m\u001b[43m(\u001b[49m\u001b[43mtrial\u001b[49m\u001b[43m,\u001b[49m\u001b[43m \u001b[49m\u001b[43mX\u001b[49m\u001b[43m,\u001b[49m\u001b[43m \u001b[49m\u001b[43my\u001b[49m\u001b[43m)\u001b[49m, n_trials\u001b[38;5;241m=\u001b[39m\u001b[38;5;241m10\u001b[39m, show_progress_bar\u001b[38;5;241m=\u001b[39m\u001b[38;5;28;01mTrue\u001b[39;00m)\n\u001b[1;32m      6\u001b[0m \u001b[38;5;28mprint\u001b[39m(\u001b[38;5;124mf\u001b[39m\u001b[38;5;124m'\u001b[39m\u001b[38;5;124mFor target: \u001b[39m\u001b[38;5;132;01m{\u001b[39;00mtarget\u001b[38;5;132;01m}\u001b[39;00m\u001b[38;5;124m MAE:\u001b[39m\u001b[38;5;132;01m{\u001b[39;00mstudy\u001b[38;5;241m.\u001b[39mbest_value\u001b[38;5;132;01m}\u001b[39;00m\u001b[38;5;124m'\u001b[39m)\n",
      "Cell \u001b[0;32mIn[263], line 35\u001b[0m, in \u001b[0;36mobjective\u001b[0;34m(trial, X, y)\u001b[0m\n\u001b[1;32m     32\u001b[0m     dval \u001b[38;5;241m=\u001b[39m xgb\u001b[38;5;241m.\u001b[39mDMatrix(X\u001b[38;5;241m.\u001b[39miloc[val_index]\u001b[38;5;241m.\u001b[39mdrop(columns\u001b[38;5;241m=\u001b[39m[\u001b[38;5;124m'\u001b[39m\u001b[38;5;124mid\u001b[39m\u001b[38;5;124m'\u001b[39m]), label\u001b[38;5;241m=\u001b[39my\u001b[38;5;241m.\u001b[39miloc[val_index])\n\u001b[1;32m     34\u001b[0m     result_dict \u001b[38;5;241m=\u001b[39m {}\n\u001b[0;32m---> 35\u001b[0m     xgb_model \u001b[38;5;241m=\u001b[39m \u001b[43mxgb\u001b[49m\u001b[38;5;241;43m.\u001b[39;49m\u001b[43mtrain\u001b[49m\u001b[43m(\u001b[49m\n\u001b[1;32m     36\u001b[0m \u001b[43m        \u001b[49m\u001b[43mparams\u001b[49m\u001b[43m,\u001b[49m\n\u001b[1;32m     37\u001b[0m \u001b[43m        \u001b[49m\u001b[43mdtrain\u001b[49m\u001b[43m,\u001b[49m\u001b[43m \u001b[49m\n\u001b[1;32m     38\u001b[0m \u001b[43m        \u001b[49m\u001b[43mevals\u001b[49m\u001b[38;5;241;43m=\u001b[39;49m\u001b[43m[\u001b[49m\u001b[43m(\u001b[49m\u001b[43mdtrain\u001b[49m\u001b[43m,\u001b[49m\u001b[43m \u001b[49m\u001b[38;5;124;43m'\u001b[39;49m\u001b[38;5;124;43mtrain\u001b[39;49m\u001b[38;5;124;43m'\u001b[39;49m\u001b[43m)\u001b[49m\u001b[43m,\u001b[49m\u001b[43m \u001b[49m\u001b[43m(\u001b[49m\u001b[43mdval\u001b[49m\u001b[43m,\u001b[49m\u001b[43m \u001b[49m\u001b[38;5;124;43m'\u001b[39;49m\u001b[38;5;124;43mval\u001b[39;49m\u001b[38;5;124;43m'\u001b[39;49m\u001b[43m)\u001b[49m\u001b[43m]\u001b[49m\u001b[43m,\u001b[49m\u001b[43m \u001b[49m\n\u001b[1;32m     39\u001b[0m \u001b[43m        \u001b[49m\u001b[43mnum_boost_round\u001b[49m\u001b[38;5;241;43m=\u001b[39;49m\u001b[38;5;241;43m10000\u001b[39;49m\u001b[43m,\u001b[49m\n\u001b[1;32m     40\u001b[0m \u001b[43m        \u001b[49m\u001b[43mearly_stopping_rounds\u001b[49m\u001b[38;5;241;43m=\u001b[39;49m\u001b[38;5;241;43m100\u001b[39;49m\u001b[43m,\u001b[49m\u001b[43m \u001b[49m\n\u001b[1;32m     41\u001b[0m \u001b[43m        \u001b[49m\u001b[43mverbose_eval\u001b[49m\u001b[38;5;241;43m=\u001b[39;49m\u001b[38;5;28;43;01mFalse\u001b[39;49;00m\u001b[43m,\u001b[49m\n\u001b[1;32m     42\u001b[0m \u001b[43m        \u001b[49m\u001b[43mevals_result\u001b[49m\u001b[38;5;241;43m=\u001b[39;49m\u001b[43mresult_dict\u001b[49m\n\u001b[1;32m     43\u001b[0m \u001b[43m        \u001b[49m\u001b[43m)\u001b[49m\n\u001b[1;32m     45\u001b[0m     cv_scores\u001b[38;5;241m.\u001b[39mappend(xgb_model\u001b[38;5;241m.\u001b[39mbest_score)\n\u001b[1;32m     47\u001b[0m \u001b[38;5;28;01mreturn\u001b[39;00m np\u001b[38;5;241m.\u001b[39mmean(cv_scores)\n",
      "File \u001b[0;32m~/miniconda3/envs/ml/lib/python3.12/site-packages/xgboost/core.py:729\u001b[0m, in \u001b[0;36mrequire_keyword_args.<locals>.throw_if.<locals>.inner_f\u001b[0;34m(*args, **kwargs)\u001b[0m\n\u001b[1;32m    727\u001b[0m \u001b[38;5;28;01mfor\u001b[39;00m k, arg \u001b[38;5;129;01min\u001b[39;00m \u001b[38;5;28mzip\u001b[39m(sig\u001b[38;5;241m.\u001b[39mparameters, args):\n\u001b[1;32m    728\u001b[0m     kwargs[k] \u001b[38;5;241m=\u001b[39m arg\n\u001b[0;32m--> 729\u001b[0m \u001b[38;5;28;01mreturn\u001b[39;00m \u001b[43mfunc\u001b[49m\u001b[43m(\u001b[49m\u001b[38;5;241;43m*\u001b[39;49m\u001b[38;5;241;43m*\u001b[39;49m\u001b[43mkwargs\u001b[49m\u001b[43m)\u001b[49m\n",
      "File \u001b[0;32m~/miniconda3/envs/ml/lib/python3.12/site-packages/xgboost/training.py:183\u001b[0m, in \u001b[0;36mtrain\u001b[0;34m(params, dtrain, num_boost_round, evals, obj, maximize, early_stopping_rounds, evals_result, verbose_eval, xgb_model, callbacks, custom_metric)\u001b[0m\n\u001b[1;32m    181\u001b[0m \u001b[38;5;28;01mif\u001b[39;00m cb_container\u001b[38;5;241m.\u001b[39mbefore_iteration(bst, i, dtrain, evals):\n\u001b[1;32m    182\u001b[0m     \u001b[38;5;28;01mbreak\u001b[39;00m\n\u001b[0;32m--> 183\u001b[0m \u001b[43mbst\u001b[49m\u001b[38;5;241;43m.\u001b[39;49m\u001b[43mupdate\u001b[49m\u001b[43m(\u001b[49m\u001b[43mdtrain\u001b[49m\u001b[43m,\u001b[49m\u001b[43m \u001b[49m\u001b[43miteration\u001b[49m\u001b[38;5;241;43m=\u001b[39;49m\u001b[43mi\u001b[49m\u001b[43m,\u001b[49m\u001b[43m \u001b[49m\u001b[43mfobj\u001b[49m\u001b[38;5;241;43m=\u001b[39;49m\u001b[43mobj\u001b[49m\u001b[43m)\u001b[49m\n\u001b[1;32m    184\u001b[0m \u001b[38;5;28;01mif\u001b[39;00m cb_container\u001b[38;5;241m.\u001b[39mafter_iteration(bst, i, dtrain, evals):\n\u001b[1;32m    185\u001b[0m     \u001b[38;5;28;01mbreak\u001b[39;00m\n",
      "File \u001b[0;32m~/miniconda3/envs/ml/lib/python3.12/site-packages/xgboost/core.py:2243\u001b[0m, in \u001b[0;36mBooster.update\u001b[0;34m(self, dtrain, iteration, fobj)\u001b[0m\n\u001b[1;32m   2241\u001b[0m \u001b[38;5;28;01mif\u001b[39;00m \u001b[38;5;129;01mnot\u001b[39;00m \u001b[38;5;28misinstance\u001b[39m(dtrain, DMatrix):\n\u001b[1;32m   2242\u001b[0m     \u001b[38;5;28;01mraise\u001b[39;00m \u001b[38;5;167;01mTypeError\u001b[39;00m(\u001b[38;5;124mf\u001b[39m\u001b[38;5;124m\"\u001b[39m\u001b[38;5;124minvalid training matrix: \u001b[39m\u001b[38;5;132;01m{\u001b[39;00m\u001b[38;5;28mtype\u001b[39m(dtrain)\u001b[38;5;241m.\u001b[39m\u001b[38;5;18m__name__\u001b[39m\u001b[38;5;132;01m}\u001b[39;00m\u001b[38;5;124m\"\u001b[39m)\n\u001b[0;32m-> 2243\u001b[0m \u001b[38;5;28;43mself\u001b[39;49m\u001b[38;5;241;43m.\u001b[39;49m\u001b[43m_assign_dmatrix_features\u001b[49m\u001b[43m(\u001b[49m\u001b[43mdtrain\u001b[49m\u001b[43m)\u001b[49m\n\u001b[1;32m   2245\u001b[0m \u001b[38;5;28;01mif\u001b[39;00m fobj \u001b[38;5;129;01mis\u001b[39;00m \u001b[38;5;28;01mNone\u001b[39;00m:\n\u001b[1;32m   2246\u001b[0m     _check_call(\n\u001b[1;32m   2247\u001b[0m         _LIB\u001b[38;5;241m.\u001b[39mXGBoosterUpdateOneIter(\n\u001b[1;32m   2248\u001b[0m             \u001b[38;5;28mself\u001b[39m\u001b[38;5;241m.\u001b[39mhandle, ctypes\u001b[38;5;241m.\u001b[39mc_int(iteration), dtrain\u001b[38;5;241m.\u001b[39mhandle\n\u001b[1;32m   2249\u001b[0m         )\n\u001b[1;32m   2250\u001b[0m     )\n",
      "File \u001b[0;32m~/miniconda3/envs/ml/lib/python3.12/site-packages/xgboost/core.py:3201\u001b[0m, in \u001b[0;36mBooster._assign_dmatrix_features\u001b[0;34m(self, data)\u001b[0m\n\u001b[1;32m   3198\u001b[0m     \u001b[38;5;28;01mreturn\u001b[39;00m\n\u001b[1;32m   3200\u001b[0m fn \u001b[38;5;241m=\u001b[39m data\u001b[38;5;241m.\u001b[39mfeature_names\n\u001b[0;32m-> 3201\u001b[0m ft \u001b[38;5;241m=\u001b[39m \u001b[43mdata\u001b[49m\u001b[38;5;241;43m.\u001b[39;49m\u001b[43mfeature_types\u001b[49m\n\u001b[1;32m   3203\u001b[0m \u001b[38;5;28;01mif\u001b[39;00m \u001b[38;5;28mself\u001b[39m\u001b[38;5;241m.\u001b[39mfeature_names \u001b[38;5;129;01mis\u001b[39;00m \u001b[38;5;28;01mNone\u001b[39;00m:\n\u001b[1;32m   3204\u001b[0m     \u001b[38;5;28mself\u001b[39m\u001b[38;5;241m.\u001b[39mfeature_names \u001b[38;5;241m=\u001b[39m fn\n",
      "File \u001b[0;32m~/miniconda3/envs/ml/lib/python3.12/site-packages/xgboost/core.py:1401\u001b[0m, in \u001b[0;36mDMatrix.feature_types\u001b[0;34m(self)\u001b[0m\n\u001b[1;32m   1392\u001b[0m sarr \u001b[38;5;241m=\u001b[39m ctypes\u001b[38;5;241m.\u001b[39mPOINTER(ctypes\u001b[38;5;241m.\u001b[39mc_char_p)()\n\u001b[1;32m   1393\u001b[0m _check_call(\n\u001b[1;32m   1394\u001b[0m     _LIB\u001b[38;5;241m.\u001b[39mXGDMatrixGetStrFeatureInfo(\n\u001b[1;32m   1395\u001b[0m         \u001b[38;5;28mself\u001b[39m\u001b[38;5;241m.\u001b[39mhandle,\n\u001b[0;32m   (...)\u001b[0m\n\u001b[1;32m   1399\u001b[0m     )\n\u001b[1;32m   1400\u001b[0m )\n\u001b[0;32m-> 1401\u001b[0m res \u001b[38;5;241m=\u001b[39m \u001b[43mfrom_cstr_to_pystr\u001b[49m\u001b[43m(\u001b[49m\u001b[43msarr\u001b[49m\u001b[43m,\u001b[49m\u001b[43m \u001b[49m\u001b[43mlength\u001b[49m\u001b[43m)\u001b[49m\n\u001b[1;32m   1402\u001b[0m \u001b[38;5;28;01mif\u001b[39;00m \u001b[38;5;129;01mnot\u001b[39;00m res:\n\u001b[1;32m   1403\u001b[0m     \u001b[38;5;28;01mreturn\u001b[39;00m \u001b[38;5;28;01mNone\u001b[39;00m\n",
      "File \u001b[0;32m~/miniconda3/envs/ml/lib/python3.12/site-packages/xgboost/core.py:117\u001b[0m, in \u001b[0;36mfrom_cstr_to_pystr\u001b[0;34m(data, length)\u001b[0m\n\u001b[1;32m    115\u001b[0m \u001b[38;5;28;01mfor\u001b[39;00m i \u001b[38;5;129;01min\u001b[39;00m \u001b[38;5;28mrange\u001b[39m(length\u001b[38;5;241m.\u001b[39mvalue):\n\u001b[1;32m    116\u001b[0m     \u001b[38;5;28;01mtry\u001b[39;00m:\n\u001b[0;32m--> 117\u001b[0m         res\u001b[38;5;241m.\u001b[39mappend(\u001b[38;5;28mstr\u001b[39m(\u001b[43mcast\u001b[49m\u001b[43m(\u001b[49m\u001b[38;5;28;43mbytes\u001b[39;49m\u001b[43m,\u001b[49m\u001b[43m \u001b[49m\u001b[43mdata\u001b[49m\u001b[43m[\u001b[49m\u001b[43mi\u001b[49m\u001b[43m]\u001b[49m\u001b[43m)\u001b[49m\u001b[38;5;241;43m.\u001b[39;49m\u001b[43mdecode\u001b[49m\u001b[43m(\u001b[49m\u001b[38;5;124;43m\"\u001b[39;49m\u001b[38;5;124;43mascii\u001b[39;49m\u001b[38;5;124;43m\"\u001b[39;49m\u001b[43m)\u001b[49m))\n\u001b[1;32m    118\u001b[0m     \u001b[38;5;28;01mexcept\u001b[39;00m \u001b[38;5;167;01mUnicodeDecodeError\u001b[39;00m:\n\u001b[1;32m    119\u001b[0m         res\u001b[38;5;241m.\u001b[39mappend(\u001b[38;5;28mstr\u001b[39m(cast(\u001b[38;5;28mbytes\u001b[39m, data[i])\u001b[38;5;241m.\u001b[39mdecode(\u001b[38;5;124m\"\u001b[39m\u001b[38;5;124mutf-8\u001b[39m\u001b[38;5;124m\"\u001b[39m)))\n",
      "\u001b[0;31mKeyboardInterrupt\u001b[0m: "
     ]
    }
   ],
   "source": [
    "for target in config.TARGET_LIST:\n",
    "    X = data[data[target].notnull()].filter(items=['id']).join(data.iloc[:, 7:])\n",
    "    y = data[data[target].notnull()].loc[:, target]\n",
    "    study = optuna.create_study(direction='minimize', sampler=optuna.samplers.TPESampler(seed=SEED), pruner=optuna.pruners.MedianPruner(n_warmup_steps=10))\n",
    "    study.optimize(lambda trial: objective(trial, X, y), n_trials=10, show_progress_bar=True)\n",
    "    print(f'For target: {target} MAE:{study.best_value}')"
   ]
  },
  {
   "cell_type": "code",
   "execution_count": null,
   "id": "08923003-8025-4ea3-bba5-a38edf7484d8",
   "metadata": {},
   "outputs": [],
   "source": []
  }
 ],
 "metadata": {
  "kernelspec": {
   "display_name": "ml",
   "language": "python",
   "name": "ml"
  },
  "language_info": {
   "codemirror_mode": {
    "name": "ipython",
    "version": 3
   },
   "file_extension": ".py",
   "mimetype": "text/x-python",
   "name": "python",
   "nbconvert_exporter": "python",
   "pygments_lexer": "ipython3",
   "version": "3.12.2"
  }
 },
 "nbformat": 4,
 "nbformat_minor": 5
}
